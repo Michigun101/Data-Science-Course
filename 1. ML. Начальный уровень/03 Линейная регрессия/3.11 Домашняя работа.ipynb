{
 "cells": [
  {
   "cell_type": "markdown",
   "metadata": {},
   "source": [
    "### Домашняя работа\n",
    "\n",
    "**Задание простого уровня** Мы говорили, что метрики качества нужны, чтобы сравнивать различные модели между собой. В задаче полиномиальной регрессии реализуйте код для выбора лучшей степени полиному:\n",
    "\n",
    "* возьмите все степени от 1 до 10 по порядку, без пропусков.\n",
    "* найдите степень полинома, где будет лучший r2-score\n",
    "* напишите код, который выводит самую подходящую степень полинома и соответствующий ей скор\n",
    "\n",
    "Эта процедура называется Grid Search и помогает найти лучшие параметры для модели.\n",
    "\n",
    "Обучите лучшую модель и сделайте predict"
   ]
  },
  {
   "cell_type": "code",
   "execution_count": 6,
   "metadata": {},
   "outputs": [
    {
     "data": {
      "text/html": [
       "<div>\n",
       "<style scoped>\n",
       "    .dataframe tbody tr th:only-of-type {\n",
       "        vertical-align: middle;\n",
       "    }\n",
       "\n",
       "    .dataframe tbody tr th {\n",
       "        vertical-align: top;\n",
       "    }\n",
       "\n",
       "    .dataframe thead th {\n",
       "        text-align: right;\n",
       "    }\n",
       "</style>\n",
       "<table border=\"1\" class=\"dataframe\">\n",
       "  <thead>\n",
       "    <tr style=\"text-align: right;\">\n",
       "      <th></th>\n",
       "      <th>x_train</th>\n",
       "      <th>y_train</th>\n",
       "    </tr>\n",
       "  </thead>\n",
       "  <tbody>\n",
       "    <tr>\n",
       "      <th>0</th>\n",
       "      <td>0.138368</td>\n",
       "      <td>0.838812</td>\n",
       "    </tr>\n",
       "    <tr>\n",
       "      <th>1</th>\n",
       "      <td>0.157237</td>\n",
       "      <td>0.889313</td>\n",
       "    </tr>\n",
       "    <tr>\n",
       "      <th>2</th>\n",
       "      <td>0.188684</td>\n",
       "      <td>1.430040</td>\n",
       "    </tr>\n",
       "    <tr>\n",
       "      <th>3</th>\n",
       "      <td>0.685553</td>\n",
       "      <td>1.717309</td>\n",
       "    </tr>\n",
       "    <tr>\n",
       "      <th>4</th>\n",
       "      <td>0.874237</td>\n",
       "      <td>2.032588</td>\n",
       "    </tr>\n",
       "  </tbody>\n",
       "</table>\n",
       "</div>"
      ],
      "text/plain": [
       "    x_train   y_train\n",
       "0  0.138368  0.838812\n",
       "1  0.157237  0.889313\n",
       "2  0.188684  1.430040\n",
       "3  0.685553  1.717309\n",
       "4  0.874237  2.032588"
      ]
     },
     "execution_count": 6,
     "metadata": {},
     "output_type": "execute_result"
    }
   ],
   "source": [
    "import pandas as pd\n",
    "data = pd.read_csv('3_10_non_linear.csv', sep=',')\n",
    "data.head()"
   ]
  },
  {
   "cell_type": "code",
   "execution_count": 2,
   "metadata": {},
   "outputs": [],
   "source": [
    "import numpy as np\n",
    "def generate_degrees(data:list,degree:int):\n",
    "    return np.array([data ** n for n in range(1,degree+1)]).T"
   ]
  },
  {
   "cell_type": "code",
   "execution_count": 11,
   "metadata": {},
   "outputs": [],
   "source": [
    "from sklearn.metrics import r2_score\n",
    "from sklearn.linear_model import LinearRegression\n",
    "def train_poly(degree, data):\n",
    "    X = generate_degrees(data['x_train'],degree)\n",
    "    model = LinearRegression().fit(X,data['y_train'])\n",
    "    y_pred = model.predict(X)\n",
    "    error = r2_score(data['y_train'],y_pred)\n",
    "    print(\"Степень полинома %d r2_score = %s \\n\" % (degree,error))\n",
    "    return (degree,error)\n"
   ]
  },
  {
   "cell_type": "code",
   "execution_count": 15,
   "metadata": {},
   "outputs": [
    {
     "name": "stdout",
     "output_type": "stream",
     "text": [
      "Степень полинома 1 r2_score = 0.5194693682784115 \n",
      "\n",
      "Степень полинома 2 r2_score = 0.5334743428787219 \n",
      "\n",
      "Степень полинома 3 r2_score = 0.8884043369162165 \n",
      "\n",
      "Степень полинома 4 r2_score = 0.8954938957170192 \n",
      "\n",
      "Степень полинома 5 r2_score = 0.8955568441439694 \n",
      "\n",
      "Степень полинома 6 r2_score = 0.8993403708180603 \n",
      "\n",
      "Степень полинома 7 r2_score = 0.9004609754024426 \n",
      "\n",
      "Степень полинома 8 r2_score = 0.9086556247247776 \n",
      "\n",
      "Степень полинома 9 r2_score = 0.9088071215144211 \n",
      "\n",
      "Степень полинома 10 r2_score = 0.909113383129074 \n",
      "\n"
     ]
    }
   ],
   "source": [
    "errors = []\n",
    "for degree in range(1,11):\n",
    "    errors.append(train_poly(degree,data))\n"
   ]
  },
  {
   "cell_type": "code",
   "execution_count": 18,
   "metadata": {},
   "outputs": [
    {
     "data": {
      "text/plain": [
       "[(1, 0.5194693682784115),\n",
       " (2, 0.5334743428787219),\n",
       " (3, 0.8884043369162165),\n",
       " (4, 0.8954938957170192),\n",
       " (5, 0.8955568441439694),\n",
       " (6, 0.8993403708180603),\n",
       " (7, 0.9004609754024426),\n",
       " (8, 0.9086556247247776),\n",
       " (9, 0.9088071215144211),\n",
       " (10, 0.909113383129074)]"
      ]
     },
     "execution_count": 18,
     "metadata": {},
     "output_type": "execute_result"
    }
   ],
   "source": [
    "errors"
   ]
  },
  {
   "cell_type": "code",
   "execution_count": 19,
   "metadata": {},
   "outputs": [
    {
     "data": {
      "text/plain": [
       "(10, 0.909113383129074)"
      ]
     },
     "execution_count": 19,
     "metadata": {},
     "output_type": "execute_result"
    }
   ],
   "source": [
    "max_errors = max(errors,key = lambda x: x[1])\n",
    "max_errors"
   ]
  },
  {
   "cell_type": "code",
   "execution_count": null,
   "metadata": {},
   "outputs": [],
   "source": []
  },
  {
   "cell_type": "code",
   "execution_count": null,
   "metadata": {},
   "outputs": [],
   "source": [
    "def best_poly(n,data):\n",
    "\n",
    "    def train_poly(degree:int, data):\n",
    "        X = generate_degrees(data['x_train'],degree)\n",
    "        model = LinearRegression().fit(X,data['y_train'])\n",
    "        y_pred = model.predict(X)\n",
    "        error = r2_score(data['y_train'],y_pred)\n",
    "        #print(\"Степень полинома %d r2_score = %s \\n\" % (degree,error))\n",
    "        return (degree,error)\n",
    "    \n",
    "    errors = []\n",
    "    for degree in range(1,n+1):\n",
    "        errors.append(train_poly(degree,data))\n",
    "    max_errors = max(errors,key = lambda x: x[1])\n",
    "    print(f\"Наилучшие показатели для предоставленных данных: Степень полинома {max_errors[0]}, r2_score = {max_errors[1]}\\n\")\n",
    "    print('Обучим ее на выявленынх показателях')\n",
    "    \n"
   ]
  },
  {
   "cell_type": "code",
   "execution_count": 33,
   "metadata": {},
   "outputs": [
    {
     "name": "stdout",
     "output_type": "stream",
     "text": [
      "Наилучшие показатели для предоставленных данных: Степень полинома 10, r2_score = 0.909113383129074\n"
     ]
    }
   ],
   "source": [
    "best_poly(10,data)"
   ]
  },
  {
   "cell_type": "code",
   "execution_count": 35,
   "metadata": {},
   "outputs": [],
   "source": [
    "from sklearn.metrics import mean_squared_error\n",
    "import matplotlib.pyplot as plt \n",
    "\n",
    "def train_polynomial(degree, data):\n",
    "    \"\"\"Генерим данные, тренируем модель\n",
    "    \n",
    "    дополнительно рисуем график\n",
    "    \"\"\"\n",
    "    \n",
    "    X = generate_degrees(data['x_train'], degree)\n",
    "\n",
    "    model = LinearRegression().fit(X, data['y_train'])\n",
    "    y_pred = model.predict(X)\n",
    "\n",
    "    error = mean_squared_error(data['y_train'], y_pred)\n",
    "    print(\"Степень полинома %d Ошибка %.3f\" % (degree, error))\n",
    "\n",
    "    plt.scatter(data['x_train'], data['y_train'], 40, 'g', 'o', alpha=0.8, label='data')\n",
    "    plt.plot(data['x_train'], y_pred)"
   ]
  },
  {
   "cell_type": "code",
   "execution_count": 40,
   "metadata": {},
   "outputs": [
    {
     "name": "stdout",
     "output_type": "stream",
     "text": [
      "Степень полинома 5 Ошибка 0.067\n"
     ]
    },
    {
     "data": {
      "image/png": "[encoded data removed]",
      "text/plain": [
       "<Figure size 640x480 with 1 Axes>"
      ]
     },
     "metadata": {},
     "output_type": "display_data"
    }
   ],
   "source": [
    "train_polynomial(5,data)"
   ]
  },
  {
   "cell_type": "markdown",
   "metadata": {},
   "source": []
  }
 ],
 "metadata": {
  "kernelspec": {
   "display_name": "base",
   "language": "python",
   "name": "python3"
  },
  "language_info": {
   "codemirror_mode": {
    "name": "ipython",
    "version": 3
   },
   "file_extension": ".py",
   "mimetype": "text/x-python",
   "name": "python",
   "nbconvert_exporter": "python",
   "pygments_lexer": "ipython3",
   "version": "3.10.9"
  }
 },
 "nbformat": 4,
 "nbformat_minor": 2
}
