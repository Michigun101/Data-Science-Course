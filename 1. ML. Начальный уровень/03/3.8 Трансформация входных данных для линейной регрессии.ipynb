{
 "cells": [
  {
   "cell_type": "markdown",
   "metadata": {},
   "source": [
    "# Трансформация входных данных для линейной регрессии\n",
    "\n",
    "В алгоритмах машинного обучения и анализа данных часто встречаются требования к входным данным\n",
    "\n",
    "* распределение данных (имеется в виду вероятностное распределение – например, гауссовское или пуассоновское)\n",
    "* масштаб данных\n",
    "\n",
    "Перед аналитиком часто стоит задача трансформации (преобразования) входных данных таким образом, чтобы удовлетворить условиям алгоритма. Игнорирование требований к входным данным приводит к некорректным выводам, это основной принцип ML (и не только ML): **garbage in - garbage out**.\n",
    "\n",
    "**Важно**: трансформации можно применять как к фичам, так и к целевым переменным"
   ]
  },
  {
   "cell_type": "markdown",
   "metadata": {},
   "source": [
    "В задачах линейной регрессии (и других линейных моделях, [например, SVM](https://ru.wikipedia.org/wiki/Метод_опорных_векторов ), о котором мы узнаем далее в курсе) такие трансформации особенно важны – чтобы линейная регрессия хорошо работала должны выполняться следующие требования:\n",
    "\n",
    "* остатки регрессии (величины $y_i-\\hat{y_i}$) должны иметь нормальное (гауссово) распределение (это можно проверить, например, построив гистограмму, как мы учились в модуле про matplotlib)\n",
    "* все фичи должны быть примерно в одном масшабе\n",
    "\n",
    "При подготовке данных для обучения линейной регрессии применяются следyющие приемы: масштабирование и нормализация.\n",
    "\n",
    "Сначала давайте проверим, как преобразование входных данных может повлиять на метрики"
   ]
  },
  {
   "cell_type": "code",
   "execution_count": 1,
   "metadata": {},
   "outputs": [
    {
     "data": {
      "image/png": "[encoded data removed]",
      "text/plain": [
       "<Figure size 640x480 with 1 Axes>"
      ]
     },
     "metadata": {},
     "output_type": "display_data"
    }
   ],
   "source": [
    "import numpy as np\n",
    "from matplotlib import pyplot as  plt\n",
    "\n",
    "%matplotlib inline\n",
    "\n",
    "x = np.linspace(1, 10, num=10).reshape(-1,1)\n",
    "y = [\n",
    "    1.5,\n",
    "    2.5,\n",
    "    3,\n",
    "    4.5,\n",
    "    12,\n",
    "    6.7,\n",
    "    7,\n",
    "    8.5,\n",
    "    14,\n",
    "    7\n",
    "]\n",
    "\n",
    "plt.scatter(x, y)\n",
    "plt.show()"
   ]
  },
  {
   "cell_type": "markdown",
   "metadata": {},
   "source": [
    "Видно, что данные вроде бы линейные, но есть выбросы\n",
    "\n",
    "Обучим линейную регрессию на этом датасете и посмотрим, какой получился MSE"
   ]
  },
  {
   "cell_type": "code",
   "execution_count": 2,
   "metadata": {},
   "outputs": [
    {
     "name": "stdout",
     "output_type": "stream",
     "text": [
      "7.071587878787878\n"
     ]
    }
   ],
   "source": [
    "from sklearn.linear_model import LinearRegression\n",
    "from sklearn.metrics import r2_score, mean_squared_error\n",
    "\n",
    "reg = LinearRegression().fit(x, y)\n",
    "y_pred = reg.predict(x)\n",
    "\n",
    "print(mean_squared_error(y, y_pred))"
   ]
  },
  {
   "cell_type": "code",
   "execution_count": null,
   "metadata": {},
   "outputs": [],
   "source": []
  }
 ],
 "metadata": {
  "kernelspec": {
   "display_name": "base",
   "language": "python",
   "name": "python3"
  },
  "language_info": {
   "codemirror_mode": {
    "name": "ipython",
    "version": 3
   },
   "file_extension": ".py",
   "mimetype": "text/x-python",
   "name": "python",
   "nbconvert_exporter": "python",
   "pygments_lexer": "ipython3",
   "version": "3.10.9"
  }
 },
 "nbformat": 4,
 "nbformat_minor": 2
}
