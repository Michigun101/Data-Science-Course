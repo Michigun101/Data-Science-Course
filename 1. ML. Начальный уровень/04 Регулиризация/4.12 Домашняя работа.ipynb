{
 "cells": [
  {
   "cell_type": "markdown",
   "metadata": {},
   "source": [
    "### Домашняя работа\n",
    "\n",
    "**Задача высокого уровня** В реализацию функции `gradient` добавьте параметр $\\lambda$, чтобы получить регуляризованный градиентный спуск\n",
    "\n",
    "Формула поменяется следующим образом:\n",
    "$$\n",
    "\\left\\{\n",
    "\\begin{array}{cc}\n",
    "\\frac{\\partial L}{\\partial w_0} = \\frac{2}{n}\\cdot(-1)\\cdot \\sum_{i=1}^{n} (1\\cdot \\left(y_i - \\sum_{j=1}^{m}w_jx_j^i\\right) + \\lambda\\cdot 2\\cdot w_0)&\\\\\n",
    "\\frac{\\partial L}{\\partial w_k} = \\frac{2}{n}\\cdot(-1)\\cdot \\sum_{i=1}^{n} (x_k^i \\cdot\\left(y_i - \\sum_{j=1}^{m}w_jx_j^i\\right) + \\lambda\\cdot 2\\cdot w_k)& k\\neq 0 \\\\\n",
    "\\end{array}\n",
    "\\right.\n",
    "$$"
   ]
  },
  {
   "cell_type": "code",
   "execution_count": 1,
   "metadata": {},
   "outputs": [
    {
     "data": {
      "text/html": [
       "<div>\n",
       "<style scoped>\n",
       "    .dataframe tbody tr th:only-of-type {\n",
       "        vertical-align: middle;\n",
       "    }\n",
       "\n",
       "    .dataframe tbody tr th {\n",
       "        vertical-align: top;\n",
       "    }\n",
       "\n",
       "    .dataframe thead th {\n",
       "        text-align: right;\n",
       "    }\n",
       "</style>\n",
       "<table border=\"1\" class=\"dataframe\">\n",
       "  <thead>\n",
       "    <tr style=\"text-align: right;\">\n",
       "      <th></th>\n",
       "      <th>x_train</th>\n",
       "      <th>y_train</th>\n",
       "    </tr>\n",
       "  </thead>\n",
       "  <tbody>\n",
       "    <tr>\n",
       "      <th>5</th>\n",
       "      <td>1.182421</td>\n",
       "      <td>1.860341</td>\n",
       "    </tr>\n",
       "    <tr>\n",
       "      <th>6</th>\n",
       "      <td>1.251605</td>\n",
       "      <td>1.878928</td>\n",
       "    </tr>\n",
       "    <tr>\n",
       "      <th>7</th>\n",
       "      <td>1.270474</td>\n",
       "      <td>2.430015</td>\n",
       "    </tr>\n",
       "    <tr>\n",
       "      <th>8</th>\n",
       "      <td>1.402553</td>\n",
       "      <td>2.327856</td>\n",
       "    </tr>\n",
       "    <tr>\n",
       "      <th>9</th>\n",
       "      <td>1.427711</td>\n",
       "      <td>2.203649</td>\n",
       "    </tr>\n",
       "  </tbody>\n",
       "</table>\n",
       "</div>"
      ],
      "text/plain": [
       "    x_train   y_train\n",
       "5  1.182421  1.860341\n",
       "6  1.251605  1.878928\n",
       "7  1.270474  2.430015\n",
       "8  1.402553  2.327856\n",
       "9  1.427711  2.203649"
      ]
     },
     "execution_count": 1,
     "metadata": {},
     "output_type": "execute_result"
    }
   ],
   "source": [
    "\n",
    "import numpy as np\n",
    "import pandas as pd\n",
    "\n",
    "data = pd.read_csv('/Users/mikhail/Data Science Projects/Data Scientist/1. ML. Начальный уровень/03/3_10_non_linear.csv', sep=',')\n",
    "data = data[(data.x_train > 1) & (data.x_train < 5)].copy()\n",
    "data.head()"
   ]
  },
  {
   "cell_type": "code",
   "execution_count": 2,
   "metadata": {},
   "outputs": [
    {
     "data": {
      "image/png": "[encoded data removed]",
      "text/plain": [
       "<Figure size 640x480 with 1 Axes>"
      ]
     },
     "metadata": {},
     "output_type": "display_data"
    }
   ],
   "source": [
    "import matplotlib.pyplot as plt\n",
    "%matplotlib inline\n",
    "\n",
    "# основной график\n",
    "plt.scatter(data.x_train, data.y_train, 40, 'g', 'o', alpha=0.8, label='data')\n",
    "plt.show()"
   ]
  },
  {
   "cell_type": "code",
   "execution_count": 26,
   "metadata": {},
   "outputs": [],
   "source": [
    "from scipy.spatial import distance\n",
    "import numpy as np\n",
    "import matplotlib.pyplot as plt\n",
    "%matplotlib inline\n",
    "\n",
    "def gradient(X, y, w,lmbd=0.0) -> np.array:\n",
    "    # количество обучающих примеров в выборке\n",
    "    n = X.shape[0]\n",
    "    # считаем прогноз\n",
    "    y_hat = X.dot(w.T)\n",
    "    # вычисляем ошибку прогноза\n",
    "    error = y - y_hat\n",
    "    # дальше pointwise перемножение - умножаем каждую из координат на ошибку\n",
    "    grad = np.multiply(X, error).sum(axis=0)*(-1.0)*2.0 / n\n",
    "    grad += 2 * lmbd * w.flatten()\n",
    "    return grad, error"
   ]
  },
  {
   "cell_type": "code",
   "execution_count": 27,
   "metadata": {},
   "outputs": [],
   "source": [
    "def eval_w_next(X, y, eta, w_current,lmbd = 0.0):\n",
    "    # вычисляем градиент\n",
    "    grad, error = gradient(X, y, w_current,lmbd)\n",
    "    # делаем шаг градиентного спуска\n",
    "    w_next = w_current - eta*grad\n",
    "    # проверяем условие сходимости\n",
    "    weight_evolution = distance.euclidean(w_current.flatten(), w_next.flatten())\n",
    "    return (w_next, weight_evolution, grad)"
   ]
  },
  {
   "cell_type": "code",
   "execution_count": 28,
   "metadata": {},
   "outputs": [],
   "source": [
    "def gradient_descent(X: np.array, y: np.array, eta=0.01, epsilon=0.001, lmbd=0.0) -> np.array:\n",
    "    m = X.shape[1]  # количество фичей\n",
    "    # инициализируем веса случайно\n",
    "    w = np.random.random(m).reshape(1, -1)\n",
    "    w_next, weight_evolution, grad = eval_w_next(X, y, eta, w, lmbd)\n",
    "    step = 0\n",
    "    # цикл до сходимости\n",
    "    while weight_evolution > epsilon:\n",
    "        w = w_next\n",
    "        w_next, weight_evolution, grad = eval_w_next(X, y, eta, w, lmbd)\n",
    "        step += 1\n",
    "        if step % 100 == 0:\n",
    "            print(\"step %s |w-w_next|=%.5f, grad=%s\" % (step, weight_evolution, grad))\n",
    "    return w\n"
   ]
  },
  {
   "cell_type": "code",
   "execution_count": 31,
   "metadata": {},
   "outputs": [
    {
     "name": "stdout",
     "output_type": "stream",
     "text": [
      "step 100 |w-w_next|=0.00330, grad=[-0.39624233  0.11446654]\n",
      "step 200 |w-w_next|=0.00267, grad=[-0.32089188  0.09269928]\n",
      "step 300 |w-w_next|=0.00216, grad=[-0.25987026  0.07507135]\n",
      "step 400 |w-w_next|=0.00175, grad=[-0.21045267  0.06079559]\n",
      "step 500 |w-w_next|=0.00142, grad=[-0.17043245  0.04923455]\n",
      "step 600 |w-w_next|=0.00115, grad=[-0.13802258  0.03987198]\n",
      "step 700 |w-w_next|=0.00093, grad=[-0.11177586  0.03228982]\n",
      "step 800 |w-w_next|=0.00075, grad=[-0.09052027  0.02614951]\n",
      "step 900 |w-w_next|=0.00061, grad=[-0.07330671  0.02117685]\n",
      "step 1000 |w-w_next|=0.00049, grad=[-0.05936652  0.01714981]\n",
      "step 1100 |w-w_next|=0.00040, grad=[-0.04807723  0.01388856]\n",
      "step 1200 |w-w_next|=0.00032, grad=[-0.03893474  0.01124747]\n",
      "step 1300 |w-w_next|=0.00026, grad=[-0.03153081  0.00910862]\n",
      "step 1400 |w-w_next|=0.00021, grad=[-0.02553483  0.0073765 ]\n",
      "step 1500 |w-w_next|=0.00017, grad=[-0.02067906  0.00597377]\n",
      "step 1600 |w-w_next|=0.00014, grad=[-0.01674668  0.00483778]\n",
      "step 1700 |w-w_next|=0.00011, grad=[-0.01356209  0.00391782]\n"
     ]
    }
   ],
   "source": [
    "# трансформируем плоский массив X в вектор-столбец\n",
    "X = data['x_train'].values.reshape(-1, 1)\n",
    "n = X.shape[0]\n",
    "# добавляем тривиальный признак w_0, столбец из единиц. См. прошлый урок, почему так\n",
    "X = np.hstack([\n",
    "    np.ones(n).reshape(-1,1),\n",
    "    X\n",
    "])\n",
    "w = gradient_descent(X, data['y_train'].values.reshape(-1, 1), eta=0.008,epsilon=0.0001,lmbd = 0.01)"
   ]
  },
  {
   "cell_type": "code",
   "execution_count": 32,
   "metadata": {},
   "outputs": [
    {
     "data": {
      "image/png": "[encoded data removed]",
      "text/plain": [
       "<Figure size 640x480 with 1 Axes>"
      ]
     },
     "metadata": {},
     "output_type": "display_data"
    }
   ],
   "source": [
    "support = np.linspace(X.min(), X.max(), num=100)\n",
    "# делаем предикт - считаем предсказания модели в каждой точке обучающей выборки в виде y=X*w\n",
    "y_hat = np.hstack([\n",
    "    np.ones(support.size).reshape(-1, 1),\n",
    "    support.reshape(-1, 1)\n",
    "]).dot(w.T)\n",
    "# строим график\n",
    "plt.plot(support, y_hat, 'b--', alpha=0.5, label='manifold')\n",
    "plt.scatter(data['x_train'], data['y_train'], 40, 'g', 'o', alpha=0.8, label='data')\n",
    "plt.show()"
   ]
  },
  {
   "cell_type": "code",
   "execution_count": null,
   "metadata": {},
   "outputs": [],
   "source": []
  }
 ],
 "metadata": {
  "kernelspec": {
   "display_name": "base",
   "language": "python",
   "name": "python3"
  },
  "language_info": {
   "codemirror_mode": {
    "name": "ipython",
    "version": 3
   },
   "file_extension": ".py",
   "mimetype": "text/x-python",
   "name": "python",
   "nbconvert_exporter": "python",
   "pygments_lexer": "ipython3",
   "version": "3.10.9"
  }
 },
 "nbformat": 4,
 "nbformat_minor": 2
}
