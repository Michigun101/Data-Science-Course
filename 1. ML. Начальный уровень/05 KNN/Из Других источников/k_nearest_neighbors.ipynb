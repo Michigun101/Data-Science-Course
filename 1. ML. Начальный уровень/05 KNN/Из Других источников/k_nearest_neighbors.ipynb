{
  "cells": [
    {
      "cell_type": "markdown",
      "metadata": {
        "id": "Faqf8pG8itot"
      },
      "source": [
        "# Суть модели *K* ближайших соседей"
      ]
    },
    {
      "cell_type": "markdown",
      "metadata": {
        "id": "rFxDo7kHg45p"
      },
      "source": [
        "## KNN для классификации"
      ]
    },
    {
      "cell_type": "markdown",
      "metadata": {
        "id": "-gROL4l_uf94"
      },
      "source": [
        "Начнем обсуждение с алгоритма kNN для задачи классификации. Расшифровывается его название как _\"k ближайших соседей (k nearest neighbours)\"_."
      ]
    },
    {
      "cell_type": "markdown",
      "metadata": {
        "id": "6eN1mepjVJ5D"
      },
      "source": [
        "На изображении показано два класс (синие квадраты и красные треугольники), а в центре находится неопределившийся объект - зеленый круг, вот для него то и будем искать ближайших соседей.\n",
        "\n",
        " <img src='https://upload.wikimedia.org/wikipedia/commons/thumb/e/e7/KnnClassification.svg/220px-KnnClassification.svg.png'>\n",
        "\n",
        " При инициализации алгоритмы KNN нужно указывать, на какое количество соседей вы хотите опираться, на изображении опираемся на трех ближайших соседей и видим, что два соседа имеют красный класс, а один сосед - синий класс, значит по большинству побеждает красный класс. И новый объект, зеленый круг, будет классифицирован, как красный треугольник.  "
      ]
    },
    {
      "cell_type": "markdown",
      "metadata": {
        "id": "5H4tVVknVc4k"
      },
      "source": [
        "Модель очень ленивая, ведь вся суть её обучения сводится к запоминанию объектов из обучающей выборки."
      ]
    },
    {
      "cell_type": "markdown",
      "metadata": {
        "id": "vArDNjL1WeRv"
      },
      "source": [
        "Давайте обучим модель KNN из `sklearn` на сгенерированных данных.\n",
        "\n",
        "Сгенерируем два класса с помощью функции `make_classification`."
      ]
    },
    {
      "cell_type": "code",
      "execution_count": 1,
      "metadata": {
        "colab": {
          "base_uri": "https://localhost:8080/",
          "height": 1000
        },
        "id": "-BI3C8CZWtY1",
        "outputId": "23793192-0259-4417-a4ee-225eedf9d480"
      },
      "outputs": [
        {
          "data": {
            "text/plain": [
              "array([[-1.71435607,  1.05793305],\n",
              "       [ 1.22308043, -2.2635163 ],\n",
              "       [-0.74339553, -0.82836749],\n",
              "       [-3.10114999,  0.55737705],\n",
              "       [-1.25272785, -1.99962916],\n",
              "       [ 1.295549  , -0.90585939],\n",
              "       [-0.39121512,  1.30843756],\n",
              "       [-2.29436606, -0.32114685],\n",
              "       [-0.37326143, -1.5106069 ],\n",
              "       [ 0.84350362,  0.03804169],\n",
              "       [-1.23337772,  0.62869299],\n",
              "       [-0.51595847, -1.69033762],\n",
              "       [ 0.11293492, -1.46417755],\n",
              "       [ 0.39978471, -1.3120226 ],\n",
              "       [-2.49684085, -0.0139064 ],\n",
              "       [ 1.19899006,  1.27323302],\n",
              "       [-1.84733371,  1.17918884],\n",
              "       [-1.68009315,  0.94130391],\n",
              "       [ 2.6400623 , -0.13810078],\n",
              "       [-1.8453037 ,  0.96321745],\n",
              "       [-0.71170663,  0.71554382],\n",
              "       [-0.02934338, -1.59054511],\n",
              "       [ 1.23158511,  1.36757795],\n",
              "       [ 1.72196418, -0.7425116 ],\n",
              "       [ 1.5719743 , -3.17595646],\n",
              "       [ 0.14132289, -1.44743003],\n",
              "       [ 1.80872881, -0.63583078],\n",
              "       [ 1.79510491, -0.69260501],\n",
              "       [ 0.07462334,  1.01023259],\n",
              "       [ 0.95171302,  1.44854725],\n",
              "       [-1.19446451, -0.8474957 ],\n",
              "       [ 1.25632941,  0.35620977],\n",
              "       [-2.24908252, -0.28644243],\n",
              "       [ 0.82474865, -0.03271731],\n",
              "       [ 0.18634794,  0.05062521],\n",
              "       [ 1.03098019,  1.42444297],\n",
              "       [ 0.68659065, -0.02781403],\n",
              "       [-1.14524878,  1.4430906 ],\n",
              "       [ 0.22013091,  0.9582595 ],\n",
              "       [ 0.40798076, -2.16809281],\n",
              "       [ 0.4668523 ,  1.1886345 ],\n",
              "       [ 0.82664994,  1.4672776 ],\n",
              "       [-0.47732004,  0.97301565],\n",
              "       [-0.52964965, -1.61180206],\n",
              "       [ 1.18049148, -0.88573201],\n",
              "       [ 0.56858555,  1.63416065],\n",
              "       [-1.63075668,  0.88990026],\n",
              "       [-0.52147411, -1.29269155],\n",
              "       [ 1.17920531, -0.95482454],\n",
              "       [-1.08235506, -0.95981772],\n",
              "       [-0.01062043, -1.51978412],\n",
              "       [-1.11904418, -1.35724946],\n",
              "       [-0.43372781,  0.81710993],\n",
              "       [-1.90408022,  0.78778037],\n",
              "       [-0.12250595, -1.89663844],\n",
              "       [-1.19512354,  1.02316418],\n",
              "       [-0.11045328, -1.70842715],\n",
              "       [-1.5727935 ,  0.95296353],\n",
              "       [-0.13483089,  0.36769071],\n",
              "       [-1.58212305,  0.2779565 ],\n",
              "       [ 1.28048571, -0.66705982],\n",
              "       [-1.29807152,  1.00564621],\n",
              "       [-2.60556052,  0.20090259],\n",
              "       [ 0.22402532,  1.70119761],\n",
              "       [ 0.01109194,  0.81931453],\n",
              "       [ 1.12696083,  2.34009809],\n",
              "       [ 0.34701998,  0.64856096],\n",
              "       [ 4.58019646,  0.59593671],\n",
              "       [ 1.68669243, -0.82136343],\n",
              "       [ 0.52861697, -0.97362376],\n",
              "       [ 1.08127939, -0.76460936],\n",
              "       [-1.47184038,  1.03743568],\n",
              "       [-0.21275877, -1.83408772],\n",
              "       [-2.16271324,  0.22109986],\n",
              "       [ 1.10337767,  1.54338503],\n",
              "       [ 1.24406513, -0.13074864],\n",
              "       [-0.40739519, -1.42213182],\n",
              "       [-0.93039933, -1.09566136],\n",
              "       [ 0.23490551, -0.37733286],\n",
              "       [ 1.02465948, -0.19060412],\n",
              "       [ 1.61901905,  1.94712244],\n",
              "       [ 1.23318754, -0.76543014],\n",
              "       [ 0.61407512, -2.55871026],\n",
              "       [ 1.29357898, -0.96566098],\n",
              "       [-2.14728937,  0.55909197],\n",
              "       [-0.70433282, -0.63475682],\n",
              "       [-2.29338649,  0.20224234],\n",
              "       [-0.23878794,  1.09339004],\n",
              "       [ 1.2265298 ,  1.8491658 ],\n",
              "       [ 1.64658987, -0.55485143],\n",
              "       [ 1.99181785,  1.11576034],\n",
              "       [ 1.09924989, -0.90411481],\n",
              "       [ 0.80976032, -1.12345802],\n",
              "       [-0.0794199 ,  1.66274856],\n",
              "       [-2.00891792, -0.15619181],\n",
              "       [-0.4338418 , -1.93937779],\n",
              "       [-0.68161073,  1.14872781],\n",
              "       [ 1.2366826 , -0.97721481],\n",
              "       [ 0.02942419, -1.32562721],\n",
              "       [ 2.61750165,  2.21818536],\n",
              "       [ 1.35553342,  1.26584188],\n",
              "       [-1.03567978,  1.0224662 ],\n",
              "       [-1.73036196, -0.17567094],\n",
              "       [-0.71819552,  0.30636576],\n",
              "       [-1.74881986,  0.94640166],\n",
              "       [ 0.362523  , -1.99527252],\n",
              "       [-0.10894122, -1.62186578],\n",
              "       [-1.79350521, -1.06662938],\n",
              "       [ 0.43640371,  0.59084543],\n",
              "       [ 0.78339011, -1.07954513]])"
            ]
          },
          "metadata": {},
          "output_type": "display_data"
        },
        {
          "data": {
            "text/plain": [
              "array([1, 0, 0, 0, 0, 0, 1, 0, 0, 1, 1, 0, 0, 0, 0, 1, 1, 1, 0, 1, 1, 0,\n",
              "       1, 0, 0, 0, 0, 0, 1, 1, 0, 1, 0, 1, 1, 1, 1, 1, 1, 0, 1, 1, 1, 0,\n",
              "       0, 1, 1, 0, 0, 0, 0, 0, 1, 1, 0, 1, 0, 1, 1, 1, 0, 1, 0, 1, 1, 1,\n",
              "       1, 0, 0, 0, 1, 1, 0, 0, 1, 1, 0, 0, 1, 1, 1, 1, 0, 0, 1, 0, 0, 1,\n",
              "       1, 0, 1, 0, 0, 1, 0, 0, 1, 0, 0, 1, 1, 1, 0, 1, 1, 0, 0, 0, 1, 0])"
            ]
          },
          "metadata": {},
          "output_type": "display_data"
        }
      ],
      "source": [
        "from sklearn.datasets import make_classification\n",
        "\n",
        "X, y = make_classification(n_samples=110, n_features=2, n_informative=2,\n",
        "                           n_redundant=0, n_classes=2, random_state=6)\n",
        "\n",
        "display(X, y)"
      ]
    },
    {
      "cell_type": "markdown",
      "metadata": {
        "id": "qBHrLQeIaOYy"
      },
      "source": [
        "Разобьем выборку на обучение и тест с помощью `train_test_split`."
      ]
    },
    {
      "cell_type": "code",
      "execution_count": 2,
      "metadata": {
        "colab": {
          "base_uri": "https://localhost:8080/"
        },
        "id": "THfMKGCXZBeX",
        "outputId": "f0b696a2-a98b-4b3d-843e-9320b109dcc7"
      },
      "outputs": [
        {
          "data": {
            "text/plain": [
              "((100, 2), (10, 2))"
            ]
          },
          "execution_count": 2,
          "metadata": {},
          "output_type": "execute_result"
        }
      ],
      "source": [
        "from sklearn.model_selection import train_test_split\n",
        "\n",
        "X_train, X_test, y_train, y_test = train_test_split(X, y, random_state=10, test_size=10)\n",
        "X_train.shape, X_test.shape"
      ]
    },
    {
      "cell_type": "markdown",
      "metadata": {
        "id": "lFklshUYaTKQ"
      },
      "source": [
        "И отрисуем полученные точки, синие - это один класс, оранжевые - это второй класс, а вот зеленые звезды - это тестовые точки, для них будет искать ближайших соседей."
      ]
    },
    {
      "cell_type": "code",
      "execution_count": 3,
      "metadata": {
        "colab": {
          "base_uri": "https://localhost:8080/",
          "height": 483
        },
        "id": "f4Gb9GgPXgnu",
        "outputId": "293e4479-f7f3-4a50-ea75-5005942ada46"
      },
      "outputs": [
        {
          "data": {
            "image/png": "[encoded data removed]",
            "text/plain": [
              "<Figure size 1000x800 with 1 Axes>"
            ]
          },
          "metadata": {},
          "output_type": "display_data"
        }
      ],
      "source": [
        "import seaborn as sns\n",
        "import matplotlib.pyplot as plt\n",
        "from matplotlib.colors import ListedColormap\n",
        "\n",
        "# Create color maps\n",
        "cmap_bold = [\"darkorange\", \"darkblue\"]\n",
        "\n",
        "plt.figure(figsize=(10, 8))\n",
        "sns.scatterplot(\n",
        "    x=X_train[:, 0],\n",
        "    y=X_train[:, 1],\n",
        "    hue=y_train,\n",
        "    palette=cmap_bold\n",
        ")\n",
        "\n",
        "plt.scatter(X_test[:, 0], X_test[:, 1], c='g', marker='*', s=100, label='test dots')\n",
        "plt.legend();"
      ]
    },
    {
      "cell_type": "markdown",
      "metadata": {
        "id": "lTbPZinEgbWk"
      },
      "source": [
        "### Обучение KNN"
      ]
    },
    {
      "cell_type": "markdown",
      "metadata": {
        "id": "z3xaqbVhab_H"
      },
      "source": [
        "Инициализируем модель `KNeighborsClassifier` для задачи классификации из `sklearn`."
      ]
    },
    {
      "cell_type": "code",
      "execution_count": 4,
      "metadata": {
        "id": "1WGhw4MiWhKt"
      },
      "outputs": [],
      "source": [
        "from sklearn.neighbors import KNeighborsClassifier\n",
        "\n",
        "n_neighbors = 3\n",
        "model = KNeighborsClassifier(n_neighbors=n_neighbors)"
      ]
    },
    {
      "cell_type": "markdown",
      "metadata": {
        "id": "i-jqM5mTajGr"
      },
      "source": [
        "И обучаем на обучающей выборке.\n",
        "\n",
        "При этом помним, что никакого обучения нет, модель просто сохраняет выборку."
      ]
    },
    {
      "cell_type": "code",
      "execution_count": 5,
      "metadata": {
        "colab": {
          "base_uri": "https://localhost:8080/"
        },
        "id": "eNIA8S9xaqKR",
        "outputId": "cbab5f03-5bdf-407d-ec9f-06aa2fc3d648"
      },
      "outputs": [
        {
          "data": {
            "text/html": [
              "<style>#sk-container-id-1 {\n",
              "  /* Definition of color scheme common for light and dark mode */\n",
              "  --sklearn-color-text: #000;\n",
              "  --sklearn-color-text-muted: #666;\n",
              "  --sklearn-color-line: gray;\n",
              "  /* Definition of color scheme for unfitted estimators */\n",
              "  --sklearn-color-unfitted-level-0: #fff5e6;\n",
              "  --sklearn-color-unfitted-level-1: #f6e4d2;\n",
              "  --sklearn-color-unfitted-level-2: #ffe0b3;\n",
              "  --sklearn-color-unfitted-level-3: chocolate;\n",
              "  /* Definition of color scheme for fitted estimators */\n",
              "  --sklearn-color-fitted-level-0: #f0f8ff;\n",
              "  --sklearn-color-fitted-level-1: #d4ebff;\n",
              "  --sklearn-color-fitted-level-2: #b3dbfd;\n",
              "  --sklearn-color-fitted-level-3: cornflowerblue;\n",
              "\n",
              "  /* Specific color for light theme */\n",
              "  --sklearn-color-text-on-default-background: var(--sg-text-color, var(--theme-code-foreground, var(--jp-content-font-color1, black)));\n",
              "  --sklearn-color-background: var(--sg-background-color, var(--theme-background, var(--jp-layout-color0, white)));\n",
              "  --sklearn-color-border-box: var(--sg-text-color, var(--theme-code-foreground, var(--jp-content-font-color1, black)));\n",
              "  --sklearn-color-icon: #696969;\n",
              "\n",
              "  @media (prefers-color-scheme: dark) {\n",
              "    /* Redefinition of color scheme for dark theme */\n",
              "    --sklearn-color-text-on-default-background: var(--sg-text-color, var(--theme-code-foreground, var(--jp-content-font-color1, white)));\n",
              "    --sklearn-color-background: var(--sg-background-color, var(--theme-background, var(--jp-layout-color0, #111)));\n",
              "    --sklearn-color-border-box: var(--sg-text-color, var(--theme-code-foreground, var(--jp-content-font-color1, white)));\n",
              "    --sklearn-color-icon: #878787;\n",
              "  }\n",
              "}\n",
              "\n",
              "#sk-container-id-1 {\n",
              "  color: var(--sklearn-color-text);\n",
              "}\n",
              "\n",
              "#sk-container-id-1 pre {\n",
              "  padding: 0;\n",
              "}\n",
              "\n",
              "#sk-container-id-1 input.sk-hidden--visually {\n",
              "  border: 0;\n",
              "  clip: rect(1px 1px 1px 1px);\n",
              "  clip: rect(1px, 1px, 1px, 1px);\n",
              "  height: 1px;\n",
              "  margin: -1px;\n",
              "  overflow: hidden;\n",
              "  padding: 0;\n",
              "  position: absolute;\n",
              "  width: 1px;\n",
              "}\n",
              "\n",
              "#sk-container-id-1 div.sk-dashed-wrapped {\n",
              "  border: 1px dashed var(--sklearn-color-line);\n",
              "  margin: 0 0.4em 0.5em 0.4em;\n",
              "  box-sizing: border-box;\n",
              "  padding-bottom: 0.4em;\n",
              "  background-color: var(--sklearn-color-background);\n",
              "}\n",
              "\n",
              "#sk-container-id-1 div.sk-container {\n",
              "  /* jupyter's `normalize.less` sets `[hidden] { display: none; }`\n",
              "     but bootstrap.min.css set `[hidden] { display: none !important; }`\n",
              "     so we also need the `!important` here to be able to override the\n",
              "     default hidden behavior on the sphinx rendered scikit-learn.org.\n",
              "     See: https://github.com/scikit-learn/scikit-learn/issues/21755 */\n",
              "  display: inline-block !important;\n",
              "  position: relative;\n",
              "}\n",
              "\n",
              "#sk-container-id-1 div.sk-text-repr-fallback {\n",
              "  display: none;\n",
              "}\n",
              "\n",
              "div.sk-parallel-item,\n",
              "div.sk-serial,\n",
              "div.sk-item {\n",
              "  /* draw centered vertical line to link estimators */\n",
              "  background-image: linear-gradient(var(--sklearn-color-text-on-default-background), var(--sklearn-color-text-on-default-background));\n",
              "  background-size: 2px 100%;\n",
              "  background-repeat: no-repeat;\n",
              "  background-position: center center;\n",
              "}\n",
              "\n",
              "/* Parallel-specific style estimator block */\n",
              "\n",
              "#sk-container-id-1 div.sk-parallel-item::after {\n",
              "  content: \"\";\n",
              "  width: 100%;\n",
              "  border-bottom: 2px solid var(--sklearn-color-text-on-default-background);\n",
              "  flex-grow: 1;\n",
              "}\n",
              "\n",
              "#sk-container-id-1 div.sk-parallel {\n",
              "  display: flex;\n",
              "  align-items: stretch;\n",
              "  justify-content: center;\n",
              "  background-color: var(--sklearn-color-background);\n",
              "  position: relative;\n",
              "}\n",
              "\n",
              "#sk-container-id-1 div.sk-parallel-item {\n",
              "  display: flex;\n",
              "  flex-direction: column;\n",
              "}\n",
              "\n",
              "#sk-container-id-1 div.sk-parallel-item:first-child::after {\n",
              "  align-self: flex-end;\n",
              "  width: 50%;\n",
              "}\n",
              "\n",
              "#sk-container-id-1 div.sk-parallel-item:last-child::after {\n",
              "  align-self: flex-start;\n",
              "  width: 50%;\n",
              "}\n",
              "\n",
              "#sk-container-id-1 div.sk-parallel-item:only-child::after {\n",
              "  width: 0;\n",
              "}\n",
              "\n",
              "/* Serial-specific style estimator block */\n",
              "\n",
              "#sk-container-id-1 div.sk-serial {\n",
              "  display: flex;\n",
              "  flex-direction: column;\n",
              "  align-items: center;\n",
              "  background-color: var(--sklearn-color-background);\n",
              "  padding-right: 1em;\n",
              "  padding-left: 1em;\n",
              "}\n",
              "\n",
              "\n",
              "/* Toggleable style: style used for estimator/Pipeline/ColumnTransformer box that is\n",
              "clickable and can be expanded/collapsed.\n",
              "- Pipeline and ColumnTransformer use this feature and define the default style\n",
              "- Estimators will overwrite some part of the style using the `sk-estimator` class\n",
              "*/\n",
              "\n",
              "/* Pipeline and ColumnTransformer style (default) */\n",
              "\n",
              "#sk-container-id-1 div.sk-toggleable {\n",
              "  /* Default theme specific background. It is overwritten whether we have a\n",
              "  specific estimator or a Pipeline/ColumnTransformer */\n",
              "  background-color: var(--sklearn-color-background);\n",
              "}\n",
              "\n",
              "/* Toggleable label */\n",
              "#sk-container-id-1 label.sk-toggleable__label {\n",
              "  cursor: pointer;\n",
              "  display: flex;\n",
              "  width: 100%;\n",
              "  margin-bottom: 0;\n",
              "  padding: 0.5em;\n",
              "  box-sizing: border-box;\n",
              "  text-align: center;\n",
              "  align-items: start;\n",
              "  justify-content: space-between;\n",
              "  gap: 0.5em;\n",
              "}\n",
              "\n",
              "#sk-container-id-1 label.sk-toggleable__label .caption {\n",
              "  font-size: 0.6rem;\n",
              "  font-weight: lighter;\n",
              "  color: var(--sklearn-color-text-muted);\n",
              "}\n",
              "\n",
              "#sk-container-id-1 label.sk-toggleable__label-arrow:before {\n",
              "  /* Arrow on the left of the label */\n",
              "  content: \"▸\";\n",
              "  float: left;\n",
              "  margin-right: 0.25em;\n",
              "  color: var(--sklearn-color-icon);\n",
              "}\n",
              "\n",
              "#sk-container-id-1 label.sk-toggleable__label-arrow:hover:before {\n",
              "  color: var(--sklearn-color-text);\n",
              "}\n",
              "\n",
              "/* Toggleable content - dropdown */\n",
              "\n",
              "#sk-container-id-1 div.sk-toggleable__content {\n",
              "  display: none;\n",
              "  text-align: left;\n",
              "  /* unfitted */\n",
              "  background-color: var(--sklearn-color-unfitted-level-0);\n",
              "}\n",
              "\n",
              "#sk-container-id-1 div.sk-toggleable__content.fitted {\n",
              "  /* fitted */\n",
              "  background-color: var(--sklearn-color-fitted-level-0);\n",
              "}\n",
              "\n",
              "#sk-container-id-1 div.sk-toggleable__content pre {\n",
              "  margin: 0.2em;\n",
              "  border-radius: 0.25em;\n",
              "  color: var(--sklearn-color-text);\n",
              "  /* unfitted */\n",
              "  background-color: var(--sklearn-color-unfitted-level-0);\n",
              "}\n",
              "\n",
              "#sk-container-id-1 div.sk-toggleable__content.fitted pre {\n",
              "  /* unfitted */\n",
              "  background-color: var(--sklearn-color-fitted-level-0);\n",
              "}\n",
              "\n",
              "#sk-container-id-1 input.sk-toggleable__control:checked~div.sk-toggleable__content {\n",
              "  /* Expand drop-down */\n",
              "  display: block;\n",
              "  width: 100%;\n",
              "  overflow: visible;\n",
              "}\n",
              "\n",
              "#sk-container-id-1 input.sk-toggleable__control:checked~label.sk-toggleable__label-arrow:before {\n",
              "  content: \"▾\";\n",
              "}\n",
              "\n",
              "/* Pipeline/ColumnTransformer-specific style */\n",
              "\n",
              "#sk-container-id-1 div.sk-label input.sk-toggleable__control:checked~label.sk-toggleable__label {\n",
              "  color: var(--sklearn-color-text);\n",
              "  background-color: var(--sklearn-color-unfitted-level-2);\n",
              "}\n",
              "\n",
              "#sk-container-id-1 div.sk-label.fitted input.sk-toggleable__control:checked~label.sk-toggleable__label {\n",
              "  background-color: var(--sklearn-color-fitted-level-2);\n",
              "}\n",
              "\n",
              "/* Estimator-specific style */\n",
              "\n",
              "/* Colorize estimator box */\n",
              "#sk-container-id-1 div.sk-estimator input.sk-toggleable__control:checked~label.sk-toggleable__label {\n",
              "  /* unfitted */\n",
              "  background-color: var(--sklearn-color-unfitted-level-2);\n",
              "}\n",
              "\n",
              "#sk-container-id-1 div.sk-estimator.fitted input.sk-toggleable__control:checked~label.sk-toggleable__label {\n",
              "  /* fitted */\n",
              "  background-color: var(--sklearn-color-fitted-level-2);\n",
              "}\n",
              "\n",
              "#sk-container-id-1 div.sk-label label.sk-toggleable__label,\n",
              "#sk-container-id-1 div.sk-label label {\n",
              "  /* The background is the default theme color */\n",
              "  color: var(--sklearn-color-text-on-default-background);\n",
              "}\n",
              "\n",
              "/* On hover, darken the color of the background */\n",
              "#sk-container-id-1 div.sk-label:hover label.sk-toggleable__label {\n",
              "  color: var(--sklearn-color-text);\n",
              "  background-color: var(--sklearn-color-unfitted-level-2);\n",
              "}\n",
              "\n",
              "/* Label box, darken color on hover, fitted */\n",
              "#sk-container-id-1 div.sk-label.fitted:hover label.sk-toggleable__label.fitted {\n",
              "  color: var(--sklearn-color-text);\n",
              "  background-color: var(--sklearn-color-fitted-level-2);\n",
              "}\n",
              "\n",
              "/* Estimator label */\n",
              "\n",
              "#sk-container-id-1 div.sk-label label {\n",
              "  font-family: monospace;\n",
              "  font-weight: bold;\n",
              "  display: inline-block;\n",
              "  line-height: 1.2em;\n",
              "}\n",
              "\n",
              "#sk-container-id-1 div.sk-label-container {\n",
              "  text-align: center;\n",
              "}\n",
              "\n",
              "/* Estimator-specific */\n",
              "#sk-container-id-1 div.sk-estimator {\n",
              "  font-family: monospace;\n",
              "  border: 1px dotted var(--sklearn-color-border-box);\n",
              "  border-radius: 0.25em;\n",
              "  box-sizing: border-box;\n",
              "  margin-bottom: 0.5em;\n",
              "  /* unfitted */\n",
              "  background-color: var(--sklearn-color-unfitted-level-0);\n",
              "}\n",
              "\n",
              "#sk-container-id-1 div.sk-estimator.fitted {\n",
              "  /* fitted */\n",
              "  background-color: var(--sklearn-color-fitted-level-0);\n",
              "}\n",
              "\n",
              "/* on hover */\n",
              "#sk-container-id-1 div.sk-estimator:hover {\n",
              "  /* unfitted */\n",
              "  background-color: var(--sklearn-color-unfitted-level-2);\n",
              "}\n",
              "\n",
              "#sk-container-id-1 div.sk-estimator.fitted:hover {\n",
              "  /* fitted */\n",
              "  background-color: var(--sklearn-color-fitted-level-2);\n",
              "}\n",
              "\n",
              "/* Specification for estimator info (e.g. \"i\" and \"?\") */\n",
              "\n",
              "/* Common style for \"i\" and \"?\" */\n",
              "\n",
              ".sk-estimator-doc-link,\n",
              "a:link.sk-estimator-doc-link,\n",
              "a:visited.sk-estimator-doc-link {\n",
              "  float: right;\n",
              "  font-size: smaller;\n",
              "  line-height: 1em;\n",
              "  font-family: monospace;\n",
              "  background-color: var(--sklearn-color-background);\n",
              "  border-radius: 1em;\n",
              "  height: 1em;\n",
              "  width: 1em;\n",
              "  text-decoration: none !important;\n",
              "  margin-left: 0.5em;\n",
              "  text-align: center;\n",
              "  /* unfitted */\n",
              "  border: var(--sklearn-color-unfitted-level-1) 1pt solid;\n",
              "  color: var(--sklearn-color-unfitted-level-1);\n",
              "}\n",
              "\n",
              ".sk-estimator-doc-link.fitted,\n",
              "a:link.sk-estimator-doc-link.fitted,\n",
              "a:visited.sk-estimator-doc-link.fitted {\n",
              "  /* fitted */\n",
              "  border: var(--sklearn-color-fitted-level-1) 1pt solid;\n",
              "  color: var(--sklearn-color-fitted-level-1);\n",
              "}\n",
              "\n",
              "/* On hover */\n",
              "div.sk-estimator:hover .sk-estimator-doc-link:hover,\n",
              ".sk-estimator-doc-link:hover,\n",
              "div.sk-label-container:hover .sk-estimator-doc-link:hover,\n",
              ".sk-estimator-doc-link:hover {\n",
              "  /* unfitted */\n",
              "  background-color: var(--sklearn-color-unfitted-level-3);\n",
              "  color: var(--sklearn-color-background);\n",
              "  text-decoration: none;\n",
              "}\n",
              "\n",
              "div.sk-estimator.fitted:hover .sk-estimator-doc-link.fitted:hover,\n",
              ".sk-estimator-doc-link.fitted:hover,\n",
              "div.sk-label-container:hover .sk-estimator-doc-link.fitted:hover,\n",
              ".sk-estimator-doc-link.fitted:hover {\n",
              "  /* fitted */\n",
              "  background-color: var(--sklearn-color-fitted-level-3);\n",
              "  color: var(--sklearn-color-background);\n",
              "  text-decoration: none;\n",
              "}\n",
              "\n",
              "/* Span, style for the box shown on hovering the info icon */\n",
              ".sk-estimator-doc-link span {\n",
              "  display: none;\n",
              "  z-index: 9999;\n",
              "  position: relative;\n",
              "  font-weight: normal;\n",
              "  right: .2ex;\n",
              "  padding: .5ex;\n",
              "  margin: .5ex;\n",
              "  width: min-content;\n",
              "  min-width: 20ex;\n",
              "  max-width: 50ex;\n",
              "  color: var(--sklearn-color-text);\n",
              "  box-shadow: 2pt 2pt 4pt #999;\n",
              "  /* unfitted */\n",
              "  background: var(--sklearn-color-unfitted-level-0);\n",
              "  border: .5pt solid var(--sklearn-color-unfitted-level-3);\n",
              "}\n",
              "\n",
              ".sk-estimator-doc-link.fitted span {\n",
              "  /* fitted */\n",
              "  background: var(--sklearn-color-fitted-level-0);\n",
              "  border: var(--sklearn-color-fitted-level-3);\n",
              "}\n",
              "\n",
              ".sk-estimator-doc-link:hover span {\n",
              "  display: block;\n",
              "}\n",
              "\n",
              "/* \"?\"-specific style due to the `<a>` HTML tag */\n",
              "\n",
              "#sk-container-id-1 a.estimator_doc_link {\n",
              "  float: right;\n",
              "  font-size: 1rem;\n",
              "  line-height: 1em;\n",
              "  font-family: monospace;\n",
              "  background-color: var(--sklearn-color-background);\n",
              "  border-radius: 1rem;\n",
              "  height: 1rem;\n",
              "  width: 1rem;\n",
              "  text-decoration: none;\n",
              "  /* unfitted */\n",
              "  color: var(--sklearn-color-unfitted-level-1);\n",
              "  border: var(--sklearn-color-unfitted-level-1) 1pt solid;\n",
              "}\n",
              "\n",
              "#sk-container-id-1 a.estimator_doc_link.fitted {\n",
              "  /* fitted */\n",
              "  border: var(--sklearn-color-fitted-level-1) 1pt solid;\n",
              "  color: var(--sklearn-color-fitted-level-1);\n",
              "}\n",
              "\n",
              "/* On hover */\n",
              "#sk-container-id-1 a.estimator_doc_link:hover {\n",
              "  /* unfitted */\n",
              "  background-color: var(--sklearn-color-unfitted-level-3);\n",
              "  color: var(--sklearn-color-background);\n",
              "  text-decoration: none;\n",
              "}\n",
              "\n",
              "#sk-container-id-1 a.estimator_doc_link.fitted:hover {\n",
              "  /* fitted */\n",
              "  background-color: var(--sklearn-color-fitted-level-3);\n",
              "}\n",
              "\n",
              ".estimator-table summary {\n",
              "    padding: .5rem;\n",
              "    font-family: monospace;\n",
              "    cursor: pointer;\n",
              "}\n",
              "\n",
              ".estimator-table details[open] {\n",
              "    padding-left: 0.1rem;\n",
              "    padding-right: 0.1rem;\n",
              "    padding-bottom: 0.3rem;\n",
              "}\n",
              "\n",
              ".estimator-table .parameters-table {\n",
              "    margin-left: auto !important;\n",
              "    margin-right: auto !important;\n",
              "}\n",
              "\n",
              ".estimator-table .parameters-table tr:nth-child(odd) {\n",
              "    background-color: #fff;\n",
              "}\n",
              "\n",
              ".estimator-table .parameters-table tr:nth-child(even) {\n",
              "    background-color: #f6f6f6;\n",
              "}\n",
              "\n",
              ".estimator-table .parameters-table tr:hover {\n",
              "    background-color: #e0e0e0;\n",
              "}\n",
              "\n",
              ".estimator-table table td {\n",
              "    border: 1px solid rgba(106, 105, 104, 0.232);\n",
              "}\n",
              "\n",
              ".user-set td {\n",
              "    color:rgb(255, 94, 0);\n",
              "    text-align: left;\n",
              "}\n",
              "\n",
              ".user-set td.value pre {\n",
              "    color:rgb(255, 94, 0) !important;\n",
              "    background-color: transparent !important;\n",
              "}\n",
              "\n",
              ".default td {\n",
              "    color: black;\n",
              "    text-align: left;\n",
              "}\n",
              "\n",
              ".user-set td i,\n",
              ".default td i {\n",
              "    color: black;\n",
              "}\n",
              "\n",
              ".copy-paste-icon {\n",
              "    background-image: url(data:image/svg+xml;base64,PHN2ZyB4bWxucz0iaHR0cDovL3d3dy53My5vcmcvMjAwMC9zdmciIHZpZXdCb3g9IjAgMCA0NDggNTEyIj48IS0tIUZvbnQgQXdlc29tZSBGcmVlIDYuNy4yIGJ5IEBmb250YXdlc29tZSAtIGh0dHBzOi8vZm9udGF3ZXNvbWUuY29tIExpY2Vuc2UgLSBodHRwczovL2ZvbnRhd2Vzb21lLmNvbS9saWNlbnNlL2ZyZWUgQ29weXJpZ2h0IDIwMjUgRm9udGljb25zLCBJbmMuLS0+PHBhdGggZD0iTTIwOCAwTDMzMi4xIDBjMTIuNyAwIDI0LjkgNS4xIDMzLjkgMTQuMWw2Ny45IDY3LjljOSA5IDE0LjEgMjEuMiAxNC4xIDMzLjlMNDQ4IDMzNmMwIDI2LjUtMjEuNSA0OC00OCA0OGwtMTkyIDBjLTI2LjUgMC00OC0yMS41LTQ4LTQ4bDAtMjg4YzAtMjYuNSAyMS41LTQ4IDQ4LTQ4ek00OCAxMjhsODAgMCAwIDY0LTY0IDAgMCAyNTYgMTkyIDAgMC0zMiA2NCAwIDAgNDhjMCAyNi41LTIxLjUgNDgtNDggNDhMNDggNTEyYy0yNi41IDAtNDgtMjEuNS00OC00OEwwIDE3NmMwLTI2LjUgMjEuNS00OCA0OC00OHoiLz48L3N2Zz4=);\n",
              "    background-repeat: no-repeat;\n",
              "    background-size: 14px 14px;\n",
              "    background-position: 0;\n",
              "    display: inline-block;\n",
              "    width: 14px;\n",
              "    height: 14px;\n",
              "    cursor: pointer;\n",
              "}\n",
              "</style><body><div id=\"sk-container-id-1\" class=\"sk-top-container\"><div class=\"sk-text-repr-fallback\"><pre>KNeighborsClassifier(n_neighbors=3)</pre><b>In a Jupyter environment, please rerun this cell to show the HTML representation or trust the notebook. <br />On GitHub, the HTML representation is unable to render, please try loading this page with nbviewer.org.</b></div><div class=\"sk-container\" hidden><div class=\"sk-item\"><div class=\"sk-estimator fitted sk-toggleable\"><input class=\"sk-toggleable__control sk-hidden--visually\" id=\"sk-estimator-id-1\" type=\"checkbox\" checked><label for=\"sk-estimator-id-1\" class=\"sk-toggleable__label fitted sk-toggleable__label-arrow\"><div><div>KNeighborsClassifier</div></div><div><a class=\"sk-estimator-doc-link fitted\" rel=\"noreferrer\" target=\"_blank\" href=\"https://scikit-learn.org/1.7/modules/generated/sklearn.neighbors.KNeighborsClassifier.html\">?<span>Documentation for KNeighborsClassifier</span></a><span class=\"sk-estimator-doc-link fitted\">i<span>Fitted</span></span></div></label><div class=\"sk-toggleable__content fitted\" data-param-prefix=\"\">\n",
              "        <div class=\"estimator-table\">\n",
              "            <details>\n",
              "                <summary>Parameters</summary>\n",
              "                <table class=\"parameters-table\">\n",
              "                  <tbody>\n",
              "                    \n",
              "        <tr class=\"user-set\">\n",
              "            <td><i class=\"copy-paste-icon\"\n",
              "                 onclick=\"copyToClipboard('n_neighbors',\n",
              "                          this.parentElement.nextElementSibling)\"\n",
              "            ></i></td>\n",
              "            <td class=\"param\">n_neighbors&nbsp;</td>\n",
              "            <td class=\"value\">3</td>\n",
              "        </tr>\n",
              "    \n",
              "\n",
              "        <tr class=\"default\">\n",
              "            <td><i class=\"copy-paste-icon\"\n",
              "                 onclick=\"copyToClipboard('weights',\n",
              "                          this.parentElement.nextElementSibling)\"\n",
              "            ></i></td>\n",
              "            <td class=\"param\">weights&nbsp;</td>\n",
              "            <td class=\"value\">&#x27;uniform&#x27;</td>\n",
              "        </tr>\n",
              "    \n",
              "\n",
              "        <tr class=\"default\">\n",
              "            <td><i class=\"copy-paste-icon\"\n",
              "                 onclick=\"copyToClipboard('algorithm',\n",
              "                          this.parentElement.nextElementSibling)\"\n",
              "            ></i></td>\n",
              "            <td class=\"param\">algorithm&nbsp;</td>\n",
              "            <td class=\"value\">&#x27;auto&#x27;</td>\n",
              "        </tr>\n",
              "    \n",
              "\n",
              "        <tr class=\"default\">\n",
              "            <td><i class=\"copy-paste-icon\"\n",
              "                 onclick=\"copyToClipboard('leaf_size',\n",
              "                          this.parentElement.nextElementSibling)\"\n",
              "            ></i></td>\n",
              "            <td class=\"param\">leaf_size&nbsp;</td>\n",
              "            <td class=\"value\">30</td>\n",
              "        </tr>\n",
              "    \n",
              "\n",
              "        <tr class=\"default\">\n",
              "            <td><i class=\"copy-paste-icon\"\n",
              "                 onclick=\"copyToClipboard('p',\n",
              "                          this.parentElement.nextElementSibling)\"\n",
              "            ></i></td>\n",
              "            <td class=\"param\">p&nbsp;</td>\n",
              "            <td class=\"value\">2</td>\n",
              "        </tr>\n",
              "    \n",
              "\n",
              "        <tr class=\"default\">\n",
              "            <td><i class=\"copy-paste-icon\"\n",
              "                 onclick=\"copyToClipboard('metric',\n",
              "                          this.parentElement.nextElementSibling)\"\n",
              "            ></i></td>\n",
              "            <td class=\"param\">metric&nbsp;</td>\n",
              "            <td class=\"value\">&#x27;minkowski&#x27;</td>\n",
              "        </tr>\n",
              "    \n",
              "\n",
              "        <tr class=\"default\">\n",
              "            <td><i class=\"copy-paste-icon\"\n",
              "                 onclick=\"copyToClipboard('metric_params',\n",
              "                          this.parentElement.nextElementSibling)\"\n",
              "            ></i></td>\n",
              "            <td class=\"param\">metric_params&nbsp;</td>\n",
              "            <td class=\"value\">None</td>\n",
              "        </tr>\n",
              "    \n",
              "\n",
              "        <tr class=\"default\">\n",
              "            <td><i class=\"copy-paste-icon\"\n",
              "                 onclick=\"copyToClipboard('n_jobs',\n",
              "                          this.parentElement.nextElementSibling)\"\n",
              "            ></i></td>\n",
              "            <td class=\"param\">n_jobs&nbsp;</td>\n",
              "            <td class=\"value\">None</td>\n",
              "        </tr>\n",
              "    \n",
              "                  </tbody>\n",
              "                </table>\n",
              "            </details>\n",
              "        </div>\n",
              "    </div></div></div></div></div><script>function copyToClipboard(text, element) {\n",
              "    // Get the parameter prefix from the closest toggleable content\n",
              "    const toggleableContent = element.closest('.sk-toggleable__content');\n",
              "    const paramPrefix = toggleableContent ? toggleableContent.dataset.paramPrefix : '';\n",
              "    const fullParamName = paramPrefix ? `${paramPrefix}${text}` : text;\n",
              "\n",
              "    const originalStyle = element.style;\n",
              "    const computedStyle = window.getComputedStyle(element);\n",
              "    const originalWidth = computedStyle.width;\n",
              "    const originalHTML = element.innerHTML.replace('Copied!', '');\n",
              "\n",
              "    navigator.clipboard.writeText(fullParamName)\n",
              "        .then(() => {\n",
              "            element.style.width = originalWidth;\n",
              "            element.style.color = 'green';\n",
              "            element.innerHTML = \"Copied!\";\n",
              "\n",
              "            setTimeout(() => {\n",
              "                element.innerHTML = originalHTML;\n",
              "                element.style = originalStyle;\n",
              "            }, 2000);\n",
              "        })\n",
              "        .catch(err => {\n",
              "            console.error('Failed to copy:', err);\n",
              "            element.style.color = 'red';\n",
              "            element.innerHTML = \"Failed!\";\n",
              "            setTimeout(() => {\n",
              "                element.innerHTML = originalHTML;\n",
              "                element.style = originalStyle;\n",
              "            }, 2000);\n",
              "        });\n",
              "    return false;\n",
              "}\n",
              "\n",
              "document.querySelectorAll('.fa-regular.fa-copy').forEach(function(element) {\n",
              "    const toggleableContent = element.closest('.sk-toggleable__content');\n",
              "    const paramPrefix = toggleableContent ? toggleableContent.dataset.paramPrefix : '';\n",
              "    const paramName = element.parentElement.nextElementSibling.textContent.trim();\n",
              "    const fullParamName = paramPrefix ? `${paramPrefix}${paramName}` : paramName;\n",
              "\n",
              "    element.setAttribute('title', fullParamName);\n",
              "});\n",
              "</script></body>"
            ],
            "text/plain": [
              "KNeighborsClassifier(n_neighbors=3)"
            ]
          },
          "execution_count": 5,
          "metadata": {},
          "output_type": "execute_result"
        }
      ],
      "source": [
        "model.fit(X_train, y_train)"
      ]
    },
    {
      "cell_type": "markdown",
      "metadata": {
        "id": "KQDVDzPjggO3"
      },
      "source": [
        "### Предсказание KNN"
      ]
    },
    {
      "cell_type": "markdown",
      "metadata": {
        "id": "TtLsG-dnateC"
      },
      "source": [
        "И теперь можем сделать предсказания для наших тестовых объектов."
      ]
    },
    {
      "cell_type": "code",
      "execution_count": 6,
      "metadata": {
        "colab": {
          "base_uri": "https://localhost:8080/"
        },
        "id": "85hnvzsSaxgw",
        "outputId": "8d2581cf-e19d-4130-92cf-e396c8c70bc9"
      },
      "outputs": [
        {
          "data": {
            "text/plain": [
              "array([1, 1, 0, 0, 1, 1, 1, 1, 0, 1])"
            ]
          },
          "execution_count": 6,
          "metadata": {},
          "output_type": "execute_result"
        }
      ],
      "source": [
        "pred_test = model.predict(X_test)\n",
        "pred_test"
      ]
    },
    {
      "cell_type": "markdown",
      "metadata": {
        "id": "5wV0RIxSa0_r"
      },
      "source": [
        "И посмотрим, насколько предсказанные классы похожи на правду."
      ]
    },
    {
      "cell_type": "code",
      "execution_count": 7,
      "metadata": {
        "colab": {
          "base_uri": "https://localhost:8080/",
          "height": 52
        },
        "id": "EjzPaoBwa4e8",
        "outputId": "2d9062de-c31b-4de5-8e77-fb79a5121c54"
      },
      "outputs": [
        {
          "data": {
            "text/plain": [
              "array([1, 1, 0, 0, 1, 1, 1, 1, 0, 1])"
            ]
          },
          "metadata": {},
          "output_type": "display_data"
        },
        {
          "data": {
            "text/plain": [
              "array([1, 1, 0, 0, 1, 1, 1, 1, 0, 1])"
            ]
          },
          "metadata": {},
          "output_type": "display_data"
        }
      ],
      "source": [
        "display(pred_test, y_test)"
      ]
    },
    {
      "cell_type": "markdown",
      "metadata": {
        "id": "1fHGnnMga8BQ"
      },
      "source": [
        "А они прям идеально совпадают, значит действительно посмотреть на ближайших соседей и принять решения, а какого класса будет объект - очень разумно."
      ]
    },
    {
      "cell_type": "markdown",
      "metadata": {
        "id": "nka4yvRqgiaI"
      },
      "source": [
        "#### Детали получения предсказания в KNN"
      ]
    },
    {
      "cell_type": "markdown",
      "metadata": {
        "id": "t_Qfp4LlduwF"
      },
      "source": [
        "А давайте увидем ближайших соседей для пары тестовых объектов.\n",
        "\n",
        "Для этого\n",
        "1. пройдемся по всем обучающим объектам\n",
        "2. посчитаем Эвклидово расстояние (ведь именно оно и считается по умолчанию в KNN в `sklearn`) через `numpy.linalg.norm`."
      ]
    },
    {
      "cell_type": "code",
      "execution_count": null,
      "metadata": {
        "id": "gOdcvkp0biqs"
      },
      "outputs": [],
      "source": [
        "import numpy as np\n",
        "import pandas as pd\n",
        "\n",
        "idx = 0\n",
        "test_dot = X_test[idx]\n",
        "\n",
        "rows = []  \n",
        "for i, train_dot in enumerate(X_train):\n",
        "    rows.append({\n",
        "        'train_idx': i,\n",
        "        'dst': np.linalg.norm(train_dot - test_dot, ord=2)\n",
        "    })\n",
        "\n",
        "distances = pd.DataFrame(rows)\n"
      ]
    },
    {
      "cell_type": "markdown",
      "metadata": {
        "id": "iryvwZfseG7S"
      },
      "source": [
        "И после подсчета всех расстояний от тестового объекта до обучающих объектов мы берем наиближайших, тех у которых расстояние меньше всех.\n",
        "\n",
        "И возьмем только 3 соседей."
      ]
    },
    {
      "cell_type": "code",
      "execution_count": 10,
      "metadata": {
        "colab": {
          "base_uri": "https://localhost:8080/",
          "height": 144
        },
        "id": "3S2JLDFEebiU",
        "outputId": "8ecb6e79-bf5b-4e55-fadf-f399ed4e0c19"
      },
      "outputs": [
        {
          "data": {
            "text/html": [
              "<div>\n",
              "<style scoped>\n",
              "    .dataframe tbody tr th:only-of-type {\n",
              "        vertical-align: middle;\n",
              "    }\n",
              "\n",
              "    .dataframe tbody tr th {\n",
              "        vertical-align: top;\n",
              "    }\n",
              "\n",
              "    .dataframe thead th {\n",
              "        text-align: right;\n",
              "    }\n",
              "</style>\n",
              "<table border=\"1\" class=\"dataframe\">\n",
              "  <thead>\n",
              "    <tr style=\"text-align: right;\">\n",
              "      <th></th>\n",
              "      <th>train_idx</th>\n",
              "      <th>dst</th>\n",
              "    </tr>\n",
              "  </thead>\n",
              "  <tbody>\n",
              "    <tr>\n",
              "      <th>40</th>\n",
              "      <td>40</td>\n",
              "      <td>0.159445</td>\n",
              "    </tr>\n",
              "    <tr>\n",
              "      <th>41</th>\n",
              "      <td>41</td>\n",
              "      <td>0.262930</td>\n",
              "    </tr>\n",
              "    <tr>\n",
              "      <th>15</th>\n",
              "      <td>15</td>\n",
              "      <td>0.375908</td>\n",
              "    </tr>\n",
              "  </tbody>\n",
              "</table>\n",
              "</div>"
            ],
            "text/plain": [
              "    train_idx       dst\n",
              "40         40  0.159445\n",
              "41         41  0.262930\n",
              "15         15  0.375908"
            ]
          },
          "execution_count": 10,
          "metadata": {},
          "output_type": "execute_result"
        }
      ],
      "source": [
        "distances.sort_values('dst').head(n_neighbors)"
      ]
    },
    {
      "cell_type": "markdown",
      "metadata": {
        "id": "-2XPtP0vejac"
      },
      "source": [
        "И получим их индексы для дальнейшей отрисовки."
      ]
    },
    {
      "cell_type": "code",
      "execution_count": 11,
      "metadata": {
        "colab": {
          "base_uri": "https://localhost:8080/"
        },
        "id": "R6FNlJGbcnaj",
        "outputId": "f0c368ca-cf1a-43be-9129-7765acb09b71"
      },
      "outputs": [
        {
          "data": {
            "text/plain": [
              "Index([40, 41, 15], dtype='int64')"
            ]
          },
          "execution_count": 11,
          "metadata": {},
          "output_type": "execute_result"
        }
      ],
      "source": [
        "nearest_neigbors_idxs = distances.sort_values('dst').head(n_neighbors).index\n",
        "nearest_neigbors_idxs"
      ]
    },
    {
      "cell_type": "markdown",
      "metadata": {
        "id": "b6qHbzQFemjM"
      },
      "source": [
        "Отрисовываем три найденных соседа в полупрозрачные зеленые окружности.\n",
        "\n",
        "И видим, что действительно, эти три объекта самые близкие для данного тестового объекта и они все синего цвета, а значит по большинству побеждает именно синий класс."
      ]
    },
    {
      "cell_type": "code",
      "execution_count": 12,
      "metadata": {
        "colab": {
          "base_uri": "https://localhost:8080/",
          "height": 483
        },
        "id": "XSoucL19bHAj",
        "outputId": "277d89ca-edc8-4a07-c12a-85d32a61558c"
      },
      "outputs": [
        {
          "data": {
            "image/png": "[encoded data removed]",
            "text/plain": [
              "<Figure size 1000x800 with 1 Axes>"
            ]
          },
          "metadata": {},
          "output_type": "display_data"
        }
      ],
      "source": [
        "# Create color maps\n",
        "cmap_bold = [\"darkorange\", \"darkblue\"]\n",
        "\n",
        "plt.figure(figsize=(10, 8))\n",
        "sns.scatterplot(\n",
        "    x=X_train[:, 0],\n",
        "    y=X_train[:, 1],\n",
        "    hue=y_train,\n",
        "    palette=cmap_bold\n",
        ")\n",
        "\n",
        "plt.scatter(X_train[nearest_neigbors_idxs, 0], X_train[nearest_neigbors_idxs, 1],\n",
        "            c='g', alpha=0.3, marker='o', s=100, label='nearest neighbors')\n",
        "\n",
        "plt.scatter(X_test[idx, 0], X_test[idx, 1], c='g', marker='*', s=100, label='test dot')\n",
        "plt.legend();"
      ]
    },
    {
      "cell_type": "markdown",
      "metadata": {
        "id": "g_gXbUI6e0a6"
      },
      "source": [
        "А давайте возьмем еще один тестовый объект и сделаем для него точно такие же действия."
      ]
    },
    {
      "cell_type": "code",
      "execution_count": 13,
      "metadata": {
        "colab": {
          "base_uri": "https://localhost:8080/",
          "height": 144
        },
        "id": "qkuOthGAe0a7",
        "outputId": "67fc5664-ac67-4a74-c8e6-358dfbbbce3d"
      },
      "outputs": [],
      "source": [
        "idx = 8\n",
        "test_dot = X_test[idx]\n",
        "\n",
        "rows = []  \n",
        "for i, train_dot in enumerate(X_train):\n",
        "    rows.append({\n",
        "        'train_idx': i,\n",
        "        'dst': np.linalg.norm(train_dot - test_dot, ord=2)\n",
        "    })\n",
        "\n",
        "distances = pd.DataFrame(rows)"
      ]
    },
    {
      "cell_type": "markdown",
      "metadata": {
        "id": "BKsBI38Pe0a8"
      },
      "source": [
        "И получае индексы для отрисовки."
      ]
    },
    {
      "cell_type": "code",
      "execution_count": 14,
      "metadata": {
        "colab": {
          "base_uri": "https://localhost:8080/"
        },
        "id": "mWIuYNwse0a8",
        "outputId": "63472e9e-c266-432b-9fe7-a5b6fa261966"
      },
      "outputs": [
        {
          "data": {
            "text/plain": [
              "Index([18, 75, 78], dtype='int64')"
            ]
          },
          "execution_count": 14,
          "metadata": {},
          "output_type": "execute_result"
        }
      ],
      "source": [
        "nearest_neigbors_idxs = distances.sort_values('dst').head(n_neighbors).index\n",
        "nearest_neigbors_idxs"
      ]
    },
    {
      "cell_type": "markdown",
      "metadata": {
        "id": "o9Wydp7fe0a9"
      },
      "source": [
        "Отрисовываем три найденных соседа в полупрозрачные зеленые окружности.\n",
        "\n",
        "И снова, эти три объекта самые близкие к тестовому объекту, а вот они все имеют метку оранжевого класса, а значит наш тестовый объект тоже приобретет метку \"оранжевый класс\"."
      ]
    },
    {
      "cell_type": "code",
      "execution_count": 15,
      "metadata": {
        "colab": {
          "base_uri": "https://localhost:8080/",
          "height": 483
        },
        "id": "ENdkTz_ze0a9",
        "outputId": "c9d4318c-d240-4b77-b062-9ea083db9567"
      },
      "outputs": [
        {
          "data": {
            "image/png": "[encoded data removed]",
            "text/plain": [
              "<Figure size 1000x800 with 1 Axes>"
            ]
          },
          "metadata": {},
          "output_type": "display_data"
        }
      ],
      "source": [
        "# Create color maps\n",
        "cmap_bold = [\"darkorange\", \"darkblue\"]\n",
        "\n",
        "plt.figure(figsize=(10, 8))\n",
        "sns.scatterplot(\n",
        "    x=X_train[:, 0],\n",
        "    y=X_train[:, 1],\n",
        "    hue=y_train,\n",
        "    palette=cmap_bold\n",
        ")\n",
        "\n",
        "plt.scatter(X_train[nearest_neigbors_idxs, 0], X_train[nearest_neigbors_idxs, 1],\n",
        "            c='g', alpha=0.3, marker='o', s=100, label='nearest neighbors')\n",
        "\n",
        "plt.scatter(X_test[idx, 0], X_test[idx, 1], c='g', marker='*', s=100, label='test dot')\n",
        "plt.legend();"
      ]
    },
    {
      "cell_type": "markdown",
      "metadata": {
        "id": "ZZq_KFgagr3l"
      },
      "source": [
        "### Резюме KNN"
      ]
    },
    {
      "cell_type": "markdown",
      "metadata": {
        "id": "k2KMkTkxfLB3"
      },
      "source": [
        "В этом и кроется вся суть алгоритма KNN.\n",
        "\n",
        "На **моменте обучения** ничего интересного не происходит: все точки из обучения попросту запоминаются.\n",
        "\n",
        "На **моменте предсказания** происходят более интересные вещи:\n",
        "1. для тестовой точки считаем расстояния до всех точек с обучения\n",
        "2. сортируем от самого ближнего до самого дальнего расстояния\n",
        "3. делаем голосование между классами ближайших $N$ соседей - это и есть предсказанная метка класса"
      ]
    },
    {
      "cell_type": "markdown",
      "metadata": {
        "id": "B7JWc3aEgSCH"
      },
      "source": [
        "## KNN для регрессии"
      ]
    },
    {
      "cell_type": "markdown",
      "metadata": {
        "id": "Q80Y_7yQBYQy"
      },
      "source": [
        "А теперь давайте обсудим отличия KNN для классификации от KNN для регрессии."
      ]
    },
    {
      "cell_type": "markdown",
      "metadata": {
        "id": "tx_o0s6JBiX2"
      },
      "source": [
        "Давайте обучим модель KNN для регресии из `sklearn` на сгенерированных данных.\n",
        "\n",
        "Сгенерируем 110 объектов с помощью функции `make_regression`."
      ]
    },
    {
      "cell_type": "code",
      "execution_count": 16,
      "metadata": {
        "colab": {
          "base_uri": "https://localhost:8080/",
          "height": 1000
        },
        "id": "gVECxRpDBiX4",
        "outputId": "a052b91a-38f6-48e0-9009-af02b4738235"
      },
      "outputs": [
        {
          "data": {
            "text/plain": [
              "array([[ 0.78263039, -0.49341854],\n",
              "       [-0.18765745, -1.4863921 ],\n",
              "       [ 1.63929108, -0.4298936 ],\n",
              "       [ 0.35480861,  1.81259031],\n",
              "       [-2.12647459,  0.75144883],\n",
              "       [ 1.56448966,  0.71270509],\n",
              "       [ 0.65725757, -0.47237563],\n",
              "       [ 0.07409773,  2.03076035],\n",
              "       [-0.12673638, -1.36861282],\n",
              "       [-0.46550831,  0.23371059],\n",
              "       [-1.22257572,  0.8228126 ],\n",
              "       [ 0.11660197, -0.68225732],\n",
              "       [ 0.64330145, -0.44789505],\n",
              "       [-0.53070072,  1.13694227],\n",
              "       [ 0.17365335, -1.03543429],\n",
              "       [-0.96813764,  0.16706673],\n",
              "       [-0.33588161,  1.23773784],\n",
              "       [ 1.21848065, -0.85750144],\n",
              "       [ 0.17629034,  1.09462041],\n",
              "       [-0.50426698,  1.05250993],\n",
              "       [-0.04723705, -1.44903979],\n",
              "       [ 1.46901739,  1.74951635],\n",
              "       [-0.03618977, -0.09084699],\n",
              "       [ 0.82465384, -1.17643148],\n",
              "       [-0.47144628,  2.33660781],\n",
              "       [ 0.11444143, -0.02195668],\n",
              "       [-0.06009261, -0.56848829],\n",
              "       [ 0.31508564, -1.0146655 ],\n",
              "       [-0.05961756,  0.19416833],\n",
              "       [-0.81988596,  0.13871369],\n",
              "       [ 0.35353062, -0.64333729],\n",
              "       [ 1.37018152,  1.09965334],\n",
              "       [ 0.15268777, -1.6326206 ],\n",
              "       [ 0.35877096,  1.07368134],\n",
              "       [ 0.11112817,  0.12915125],\n",
              "       [ 1.11569378,  0.79410326],\n",
              "       [-0.31178367,  0.72900392],\n",
              "       [-3.69023566,  0.53384158],\n",
              "       [-2.12714455, -0.83440747],\n",
              "       [ 0.2628088 , -0.60903479],\n",
              "       [-0.66353389, -0.43373648],\n",
              "       [ 0.2868793 ,  0.05185969],\n",
              "       [-1.37105209, -1.06862477],\n",
              "       [ 1.50278553, -0.59545972],\n",
              "       [ 0.09079696,  0.27026659],\n",
              "       [ 0.44692842, -1.01464799],\n",
              "       [-0.56147088, -1.0335199 ],\n",
              "       [-0.08417101, -0.4485657 ],\n",
              "       [ 0.42628539, -0.75815703],\n",
              "       [-1.46705339,  1.57410416],\n",
              "       [ 0.48828411,  1.07030973],\n",
              "       [-0.16236698,  0.72680996],\n",
              "       [-0.07972565,  0.87266549],\n",
              "       [ 0.45240094, -0.30946257],\n",
              "       [-0.32016629, -0.59319584],\n",
              "       [ 0.51689471,  0.92885736],\n",
              "       [ 0.61189442, -0.26984406],\n",
              "       [-0.99541982, -0.11412716],\n",
              "       [ 0.95120126,  0.44189739],\n",
              "       [-1.6912109 ,  1.42780744],\n",
              "       [-0.31449183, -0.14497558],\n",
              "       [-0.58661296, -1.48185327],\n",
              "       [-0.78015214,  0.95560959],\n",
              "       [ 0.03060843, -0.29749921],\n",
              "       [-1.91402115, -0.13990231],\n",
              "       [ 0.11492459, -0.39500464],\n",
              "       [-0.37550472,  0.39636757],\n",
              "       [ 2.63128056,  0.60182225],\n",
              "       [ 1.90474232,  0.69415315],\n",
              "       [-1.18441686, -0.52817318],\n",
              "       [ 2.33903423, -0.31332286],\n",
              "       [-0.95331626, -1.07282736],\n",
              "       [ 0.5685534 , -0.80496557],\n",
              "       [-0.86878205,  0.35483766],\n",
              "       [ 0.44408297, -0.85682264],\n",
              "       [ 0.2785168 , -0.42754013],\n",
              "       [ 0.52294535, -0.59187648],\n",
              "       [ 0.07612761, -0.15512816],\n",
              "       [-2.48678065,  0.91325152],\n",
              "       [ 0.87426839, -0.73957208],\n",
              "       [-0.1810066 ,  0.53419953],\n",
              "       [ 1.12706373, -1.51409323],\n",
              "       [ 0.47233738,  1.67693004],\n",
              "       [-1.44992793, -2.70693079],\n",
              "       [ 1.38503523, -0.51962709],\n",
              "       [ 0.92856046,  0.33947011],\n",
              "       [ 0.66615792, -0.79624825],\n",
              "       [ 1.18705819,  1.69089583],\n",
              "       [ 0.05155094, -0.21958725],\n",
              "       [-0.98472793, -0.21062697],\n",
              "       [ 1.40058146,  0.38470804],\n",
              "       [ 0.52834106,  0.9398248 ],\n",
              "       [-0.47748711,  0.11252968],\n",
              "       [-0.54060704,  0.79322236],\n",
              "       [ 0.69249311,  0.96133333],\n",
              "       [-0.48444561,  1.36293786],\n",
              "       [ 0.41356334, -0.37337679],\n",
              "       [-1.20135139,  0.89165273],\n",
              "       [-1.3564758 , -0.46363197],\n",
              "       [ 0.35537056, -1.69891959],\n",
              "       [-2.1323234 ,  0.17386307],\n",
              "       [ 0.83647485, -1.37809438],\n",
              "       [-0.32365897,  1.26610337],\n",
              "       [ 0.63422534,  0.810655  ],\n",
              "       [-0.44524407, -0.14195923],\n",
              "       [ 0.85724762,  0.94309899],\n",
              "       [ 0.21782079, -0.8990918 ],\n",
              "       [-0.01958134,  1.66284285],\n",
              "       [-0.94542881,  1.09128647],\n",
              "       [-0.5532565 , -0.37391087]])"
            ]
          },
          "metadata": {},
          "output_type": "display_data"
        },
        {
          "data": {
            "text/plain": [
              "array([ -10.66244648,  -92.07211428,   13.26158326,  115.24501892,\n",
              "         -5.77482665,   78.87831107,  -12.37461469,  121.49849425,\n",
              "        -83.69176519,    2.81713379,   19.72411478,  -37.48598927,\n",
              "        -11.25972977,   54.54481088,  -56.96890099,  -12.9518793 ,\n",
              "         65.07750333,  -21.86615914,   68.70174093,   50.18849411,\n",
              "        -86.56196733,  137.7699071 ,   -6.20963507,  -49.94963378,\n",
              "        126.68433272,    1.40080308,  -34.93897749,  -52.41284413,\n",
              "         10.04578784,  -11.13189271,  -29.61021615,   97.11972486,\n",
              "        -92.67858277,   71.76516307,   10.23353984,   73.10728639,\n",
              "         35.64526282,  -55.44024142,  -99.30796032,  -29.72429363,\n",
              "        -41.20631185,    9.81536928,  -95.31048751,    0.28292736,\n",
              "         18.07617282,  -49.30635516,  -74.17129949,  -28.4343354 ,\n",
              "        -34.66741029,   58.26901278,   74.61692388,   39.03528174,\n",
              "         49.5828809 ,   -7.59293348,  -42.52180903,   66.94943122,\n",
              "         -1.49989836,  -30.176389  ,   48.46334221,   44.36209111,\n",
              "        -15.95677016, -101.20155328,   37.97605314,  -16.82245884,\n",
              "        -53.33329231,  -20.58631528,   14.5289209 ,   97.46703529,\n",
              "         85.79870099,  -59.04420862,   36.61763102,  -85.71886407,\n",
              "        -34.07667818,    0.46114721,  -40.06647593,  -18.65163146,\n",
              "        -22.58515683,   -7.35472182,   -4.72011643,  -23.01956535,\n",
              "         27.23807432,  -62.73838729,  110.01348379, -193.77864096,\n",
              "          1.98123091,   41.88995709,  -31.26362093,  127.67174326,\n",
              "        -11.73473522,  -35.61510754,   55.67571519,   67.86578677,\n",
              "         -4.61101082,   34.04244019,   73.00061267,   68.96119002,\n",
              "        -12.27672131,   24.28351465,  -59.29095441,  -91.81417113,\n",
              "        -39.97260749,  -61.56318468,   67.03810297,   62.74271572,\n",
              "        -18.85866632,   75.80600717,  -47.88850505,   97.59599807,\n",
              "         42.08390256,  -35.08091814])"
            ]
          },
          "metadata": {},
          "output_type": "display_data"
        }
      ],
      "source": [
        "from sklearn.datasets import make_regression\n",
        "\n",
        "X, y = make_regression(n_samples=110, n_features=2, n_informative=2,\n",
        "                       random_state=6)\n",
        "\n",
        "display(X, y)"
      ]
    },
    {
      "cell_type": "markdown",
      "metadata": {
        "id": "MUTOouynBiX4"
      },
      "source": [
        "Разобьем выборку на обучение и тест с помощью `train_test_split`."
      ]
    },
    {
      "cell_type": "code",
      "execution_count": 17,
      "metadata": {
        "colab": {
          "base_uri": "https://localhost:8080/"
        },
        "id": "Csv1yNExBiX5",
        "outputId": "8197ab1d-45dd-46ab-afc0-1a1ae3058814"
      },
      "outputs": [
        {
          "data": {
            "text/plain": [
              "((100, 2), (10, 2))"
            ]
          },
          "execution_count": 17,
          "metadata": {},
          "output_type": "execute_result"
        }
      ],
      "source": [
        "from sklearn.model_selection import train_test_split\n",
        "\n",
        "X_train, X_test, y_train, y_test = train_test_split(X, y, random_state=10, test_size=10)\n",
        "X_train.shape, X_test.shape"
      ]
    },
    {
      "cell_type": "markdown",
      "metadata": {
        "id": "R0Wkoaw_BiX5"
      },
      "source": [
        "И отрисуем полученные точки, раскрасим их в зависимости от целевого значения, если точка более яркая, то значит у неё большое целевое значение, если точка более блеклая, то и целевое значение меньше.\n",
        "\n",
        "А зеленые звезды - это тестовые точки, для них будет искать ближайших соседей."
      ]
    },
    {
      "cell_type": "code",
      "execution_count": 18,
      "metadata": {
        "colab": {
          "base_uri": "https://localhost:8080/",
          "height": 483
        },
        "id": "Nrbq4l4xBiX5",
        "outputId": "04a65365-b125-4e76-8a52-55abdd3481b5"
      },
      "outputs": [
        {
          "data": {
            "image/png": "[encoded data removed]",
            "text/plain": [
              "<Figure size 1000x800 with 1 Axes>"
            ]
          },
          "metadata": {},
          "output_type": "display_data"
        }
      ],
      "source": [
        "plt.figure(figsize=(10, 8))\n",
        "sns.scatterplot(\n",
        "    x=X_train[:, 0],\n",
        "    y=X_train[:, 1],\n",
        "    hue=y_train\n",
        ")\n",
        "\n",
        "plt.scatter(X_test[:, 0], X_test[:, 1], c='g', marker='*', s=100, label='test dots')\n",
        "plt.legend();"
      ]
    },
    {
      "cell_type": "markdown",
      "metadata": {
        "id": "N7-FltOtBiX5"
      },
      "source": [
        "### Обучение KNN"
      ]
    },
    {
      "cell_type": "markdown",
      "metadata": {
        "id": "xuEW-OJ9BiX6"
      },
      "source": [
        "Инициализируем модель `KNeighborsRegressor` для задачи регрессии из `sklearn`."
      ]
    },
    {
      "cell_type": "code",
      "execution_count": 19,
      "metadata": {
        "id": "IR2S6-gMBiX6"
      },
      "outputs": [],
      "source": [
        "from sklearn.neighbors import KNeighborsRegressor\n",
        "\n",
        "n_neighbors = 3\n",
        "model = KNeighborsRegressor(n_neighbors=n_neighbors)"
      ]
    },
    {
      "cell_type": "markdown",
      "metadata": {
        "id": "1ptkvqF-BiX6"
      },
      "source": [
        "И обучаем на обучающей выборке.\n",
        "\n",
        "Никакого обучения здесь нет, на самом деле, модель просто сохраняет выборку."
      ]
    },
    {
      "cell_type": "code",
      "execution_count": 20,
      "metadata": {
        "colab": {
          "base_uri": "https://localhost:8080/"
        },
        "id": "GKUIoYs7BiX6",
        "outputId": "2846f7d8-2ba4-4cfc-bcda-fedbfa7c46ac"
      },
      "outputs": [
        {
          "data": {
            "text/html": [
              "<style>#sk-container-id-2 {\n",
              "  /* Definition of color scheme common for light and dark mode */\n",
              "  --sklearn-color-text: #000;\n",
              "  --sklearn-color-text-muted: #666;\n",
              "  --sklearn-color-line: gray;\n",
              "  /* Definition of color scheme for unfitted estimators */\n",
              "  --sklearn-color-unfitted-level-0: #fff5e6;\n",
              "  --sklearn-color-unfitted-level-1: #f6e4d2;\n",
              "  --sklearn-color-unfitted-level-2: #ffe0b3;\n",
              "  --sklearn-color-unfitted-level-3: chocolate;\n",
              "  /* Definition of color scheme for fitted estimators */\n",
              "  --sklearn-color-fitted-level-0: #f0f8ff;\n",
              "  --sklearn-color-fitted-level-1: #d4ebff;\n",
              "  --sklearn-color-fitted-level-2: #b3dbfd;\n",
              "  --sklearn-color-fitted-level-3: cornflowerblue;\n",
              "\n",
              "  /* Specific color for light theme */\n",
              "  --sklearn-color-text-on-default-background: var(--sg-text-color, var(--theme-code-foreground, var(--jp-content-font-color1, black)));\n",
              "  --sklearn-color-background: var(--sg-background-color, var(--theme-background, var(--jp-layout-color0, white)));\n",
              "  --sklearn-color-border-box: var(--sg-text-color, var(--theme-code-foreground, var(--jp-content-font-color1, black)));\n",
              "  --sklearn-color-icon: #696969;\n",
              "\n",
              "  @media (prefers-color-scheme: dark) {\n",
              "    /* Redefinition of color scheme for dark theme */\n",
              "    --sklearn-color-text-on-default-background: var(--sg-text-color, var(--theme-code-foreground, var(--jp-content-font-color1, white)));\n",
              "    --sklearn-color-background: var(--sg-background-color, var(--theme-background, var(--jp-layout-color0, #111)));\n",
              "    --sklearn-color-border-box: var(--sg-text-color, var(--theme-code-foreground, var(--jp-content-font-color1, white)));\n",
              "    --sklearn-color-icon: #878787;\n",
              "  }\n",
              "}\n",
              "\n",
              "#sk-container-id-2 {\n",
              "  color: var(--sklearn-color-text);\n",
              "}\n",
              "\n",
              "#sk-container-id-2 pre {\n",
              "  padding: 0;\n",
              "}\n",
              "\n",
              "#sk-container-id-2 input.sk-hidden--visually {\n",
              "  border: 0;\n",
              "  clip: rect(1px 1px 1px 1px);\n",
              "  clip: rect(1px, 1px, 1px, 1px);\n",
              "  height: 1px;\n",
              "  margin: -1px;\n",
              "  overflow: hidden;\n",
              "  padding: 0;\n",
              "  position: absolute;\n",
              "  width: 1px;\n",
              "}\n",
              "\n",
              "#sk-container-id-2 div.sk-dashed-wrapped {\n",
              "  border: 1px dashed var(--sklearn-color-line);\n",
              "  margin: 0 0.4em 0.5em 0.4em;\n",
              "  box-sizing: border-box;\n",
              "  padding-bottom: 0.4em;\n",
              "  background-color: var(--sklearn-color-background);\n",
              "}\n",
              "\n",
              "#sk-container-id-2 div.sk-container {\n",
              "  /* jupyter's `normalize.less` sets `[hidden] { display: none; }`\n",
              "     but bootstrap.min.css set `[hidden] { display: none !important; }`\n",
              "     so we also need the `!important` here to be able to override the\n",
              "     default hidden behavior on the sphinx rendered scikit-learn.org.\n",
              "     See: https://github.com/scikit-learn/scikit-learn/issues/21755 */\n",
              "  display: inline-block !important;\n",
              "  position: relative;\n",
              "}\n",
              "\n",
              "#sk-container-id-2 div.sk-text-repr-fallback {\n",
              "  display: none;\n",
              "}\n",
              "\n",
              "div.sk-parallel-item,\n",
              "div.sk-serial,\n",
              "div.sk-item {\n",
              "  /* draw centered vertical line to link estimators */\n",
              "  background-image: linear-gradient(var(--sklearn-color-text-on-default-background), var(--sklearn-color-text-on-default-background));\n",
              "  background-size: 2px 100%;\n",
              "  background-repeat: no-repeat;\n",
              "  background-position: center center;\n",
              "}\n",
              "\n",
              "/* Parallel-specific style estimator block */\n",
              "\n",
              "#sk-container-id-2 div.sk-parallel-item::after {\n",
              "  content: \"\";\n",
              "  width: 100%;\n",
              "  border-bottom: 2px solid var(--sklearn-color-text-on-default-background);\n",
              "  flex-grow: 1;\n",
              "}\n",
              "\n",
              "#sk-container-id-2 div.sk-parallel {\n",
              "  display: flex;\n",
              "  align-items: stretch;\n",
              "  justify-content: center;\n",
              "  background-color: var(--sklearn-color-background);\n",
              "  position: relative;\n",
              "}\n",
              "\n",
              "#sk-container-id-2 div.sk-parallel-item {\n",
              "  display: flex;\n",
              "  flex-direction: column;\n",
              "}\n",
              "\n",
              "#sk-container-id-2 div.sk-parallel-item:first-child::after {\n",
              "  align-self: flex-end;\n",
              "  width: 50%;\n",
              "}\n",
              "\n",
              "#sk-container-id-2 div.sk-parallel-item:last-child::after {\n",
              "  align-self: flex-start;\n",
              "  width: 50%;\n",
              "}\n",
              "\n",
              "#sk-container-id-2 div.sk-parallel-item:only-child::after {\n",
              "  width: 0;\n",
              "}\n",
              "\n",
              "/* Serial-specific style estimator block */\n",
              "\n",
              "#sk-container-id-2 div.sk-serial {\n",
              "  display: flex;\n",
              "  flex-direction: column;\n",
              "  align-items: center;\n",
              "  background-color: var(--sklearn-color-background);\n",
              "  padding-right: 1em;\n",
              "  padding-left: 1em;\n",
              "}\n",
              "\n",
              "\n",
              "/* Toggleable style: style used for estimator/Pipeline/ColumnTransformer box that is\n",
              "clickable and can be expanded/collapsed.\n",
              "- Pipeline and ColumnTransformer use this feature and define the default style\n",
              "- Estimators will overwrite some part of the style using the `sk-estimator` class\n",
              "*/\n",
              "\n",
              "/* Pipeline and ColumnTransformer style (default) */\n",
              "\n",
              "#sk-container-id-2 div.sk-toggleable {\n",
              "  /* Default theme specific background. It is overwritten whether we have a\n",
              "  specific estimator or a Pipeline/ColumnTransformer */\n",
              "  background-color: var(--sklearn-color-background);\n",
              "}\n",
              "\n",
              "/* Toggleable label */\n",
              "#sk-container-id-2 label.sk-toggleable__label {\n",
              "  cursor: pointer;\n",
              "  display: flex;\n",
              "  width: 100%;\n",
              "  margin-bottom: 0;\n",
              "  padding: 0.5em;\n",
              "  box-sizing: border-box;\n",
              "  text-align: center;\n",
              "  align-items: start;\n",
              "  justify-content: space-between;\n",
              "  gap: 0.5em;\n",
              "}\n",
              "\n",
              "#sk-container-id-2 label.sk-toggleable__label .caption {\n",
              "  font-size: 0.6rem;\n",
              "  font-weight: lighter;\n",
              "  color: var(--sklearn-color-text-muted);\n",
              "}\n",
              "\n",
              "#sk-container-id-2 label.sk-toggleable__label-arrow:before {\n",
              "  /* Arrow on the left of the label */\n",
              "  content: \"▸\";\n",
              "  float: left;\n",
              "  margin-right: 0.25em;\n",
              "  color: var(--sklearn-color-icon);\n",
              "}\n",
              "\n",
              "#sk-container-id-2 label.sk-toggleable__label-arrow:hover:before {\n",
              "  color: var(--sklearn-color-text);\n",
              "}\n",
              "\n",
              "/* Toggleable content - dropdown */\n",
              "\n",
              "#sk-container-id-2 div.sk-toggleable__content {\n",
              "  display: none;\n",
              "  text-align: left;\n",
              "  /* unfitted */\n",
              "  background-color: var(--sklearn-color-unfitted-level-0);\n",
              "}\n",
              "\n",
              "#sk-container-id-2 div.sk-toggleable__content.fitted {\n",
              "  /* fitted */\n",
              "  background-color: var(--sklearn-color-fitted-level-0);\n",
              "}\n",
              "\n",
              "#sk-container-id-2 div.sk-toggleable__content pre {\n",
              "  margin: 0.2em;\n",
              "  border-radius: 0.25em;\n",
              "  color: var(--sklearn-color-text);\n",
              "  /* unfitted */\n",
              "  background-color: var(--sklearn-color-unfitted-level-0);\n",
              "}\n",
              "\n",
              "#sk-container-id-2 div.sk-toggleable__content.fitted pre {\n",
              "  /* unfitted */\n",
              "  background-color: var(--sklearn-color-fitted-level-0);\n",
              "}\n",
              "\n",
              "#sk-container-id-2 input.sk-toggleable__control:checked~div.sk-toggleable__content {\n",
              "  /* Expand drop-down */\n",
              "  display: block;\n",
              "  width: 100%;\n",
              "  overflow: visible;\n",
              "}\n",
              "\n",
              "#sk-container-id-2 input.sk-toggleable__control:checked~label.sk-toggleable__label-arrow:before {\n",
              "  content: \"▾\";\n",
              "}\n",
              "\n",
              "/* Pipeline/ColumnTransformer-specific style */\n",
              "\n",
              "#sk-container-id-2 div.sk-label input.sk-toggleable__control:checked~label.sk-toggleable__label {\n",
              "  color: var(--sklearn-color-text);\n",
              "  background-color: var(--sklearn-color-unfitted-level-2);\n",
              "}\n",
              "\n",
              "#sk-container-id-2 div.sk-label.fitted input.sk-toggleable__control:checked~label.sk-toggleable__label {\n",
              "  background-color: var(--sklearn-color-fitted-level-2);\n",
              "}\n",
              "\n",
              "/* Estimator-specific style */\n",
              "\n",
              "/* Colorize estimator box */\n",
              "#sk-container-id-2 div.sk-estimator input.sk-toggleable__control:checked~label.sk-toggleable__label {\n",
              "  /* unfitted */\n",
              "  background-color: var(--sklearn-color-unfitted-level-2);\n",
              "}\n",
              "\n",
              "#sk-container-id-2 div.sk-estimator.fitted input.sk-toggleable__control:checked~label.sk-toggleable__label {\n",
              "  /* fitted */\n",
              "  background-color: var(--sklearn-color-fitted-level-2);\n",
              "}\n",
              "\n",
              "#sk-container-id-2 div.sk-label label.sk-toggleable__label,\n",
              "#sk-container-id-2 div.sk-label label {\n",
              "  /* The background is the default theme color */\n",
              "  color: var(--sklearn-color-text-on-default-background);\n",
              "}\n",
              "\n",
              "/* On hover, darken the color of the background */\n",
              "#sk-container-id-2 div.sk-label:hover label.sk-toggleable__label {\n",
              "  color: var(--sklearn-color-text);\n",
              "  background-color: var(--sklearn-color-unfitted-level-2);\n",
              "}\n",
              "\n",
              "/* Label box, darken color on hover, fitted */\n",
              "#sk-container-id-2 div.sk-label.fitted:hover label.sk-toggleable__label.fitted {\n",
              "  color: var(--sklearn-color-text);\n",
              "  background-color: var(--sklearn-color-fitted-level-2);\n",
              "}\n",
              "\n",
              "/* Estimator label */\n",
              "\n",
              "#sk-container-id-2 div.sk-label label {\n",
              "  font-family: monospace;\n",
              "  font-weight: bold;\n",
              "  display: inline-block;\n",
              "  line-height: 1.2em;\n",
              "}\n",
              "\n",
              "#sk-container-id-2 div.sk-label-container {\n",
              "  text-align: center;\n",
              "}\n",
              "\n",
              "/* Estimator-specific */\n",
              "#sk-container-id-2 div.sk-estimator {\n",
              "  font-family: monospace;\n",
              "  border: 1px dotted var(--sklearn-color-border-box);\n",
              "  border-radius: 0.25em;\n",
              "  box-sizing: border-box;\n",
              "  margin-bottom: 0.5em;\n",
              "  /* unfitted */\n",
              "  background-color: var(--sklearn-color-unfitted-level-0);\n",
              "}\n",
              "\n",
              "#sk-container-id-2 div.sk-estimator.fitted {\n",
              "  /* fitted */\n",
              "  background-color: var(--sklearn-color-fitted-level-0);\n",
              "}\n",
              "\n",
              "/* on hover */\n",
              "#sk-container-id-2 div.sk-estimator:hover {\n",
              "  /* unfitted */\n",
              "  background-color: var(--sklearn-color-unfitted-level-2);\n",
              "}\n",
              "\n",
              "#sk-container-id-2 div.sk-estimator.fitted:hover {\n",
              "  /* fitted */\n",
              "  background-color: var(--sklearn-color-fitted-level-2);\n",
              "}\n",
              "\n",
              "/* Specification for estimator info (e.g. \"i\" and \"?\") */\n",
              "\n",
              "/* Common style for \"i\" and \"?\" */\n",
              "\n",
              ".sk-estimator-doc-link,\n",
              "a:link.sk-estimator-doc-link,\n",
              "a:visited.sk-estimator-doc-link {\n",
              "  float: right;\n",
              "  font-size: smaller;\n",
              "  line-height: 1em;\n",
              "  font-family: monospace;\n",
              "  background-color: var(--sklearn-color-background);\n",
              "  border-radius: 1em;\n",
              "  height: 1em;\n",
              "  width: 1em;\n",
              "  text-decoration: none !important;\n",
              "  margin-left: 0.5em;\n",
              "  text-align: center;\n",
              "  /* unfitted */\n",
              "  border: var(--sklearn-color-unfitted-level-1) 1pt solid;\n",
              "  color: var(--sklearn-color-unfitted-level-1);\n",
              "}\n",
              "\n",
              ".sk-estimator-doc-link.fitted,\n",
              "a:link.sk-estimator-doc-link.fitted,\n",
              "a:visited.sk-estimator-doc-link.fitted {\n",
              "  /* fitted */\n",
              "  border: var(--sklearn-color-fitted-level-1) 1pt solid;\n",
              "  color: var(--sklearn-color-fitted-level-1);\n",
              "}\n",
              "\n",
              "/* On hover */\n",
              "div.sk-estimator:hover .sk-estimator-doc-link:hover,\n",
              ".sk-estimator-doc-link:hover,\n",
              "div.sk-label-container:hover .sk-estimator-doc-link:hover,\n",
              ".sk-estimator-doc-link:hover {\n",
              "  /* unfitted */\n",
              "  background-color: var(--sklearn-color-unfitted-level-3);\n",
              "  color: var(--sklearn-color-background);\n",
              "  text-decoration: none;\n",
              "}\n",
              "\n",
              "div.sk-estimator.fitted:hover .sk-estimator-doc-link.fitted:hover,\n",
              ".sk-estimator-doc-link.fitted:hover,\n",
              "div.sk-label-container:hover .sk-estimator-doc-link.fitted:hover,\n",
              ".sk-estimator-doc-link.fitted:hover {\n",
              "  /* fitted */\n",
              "  background-color: var(--sklearn-color-fitted-level-3);\n",
              "  color: var(--sklearn-color-background);\n",
              "  text-decoration: none;\n",
              "}\n",
              "\n",
              "/* Span, style for the box shown on hovering the info icon */\n",
              ".sk-estimator-doc-link span {\n",
              "  display: none;\n",
              "  z-index: 9999;\n",
              "  position: relative;\n",
              "  font-weight: normal;\n",
              "  right: .2ex;\n",
              "  padding: .5ex;\n",
              "  margin: .5ex;\n",
              "  width: min-content;\n",
              "  min-width: 20ex;\n",
              "  max-width: 50ex;\n",
              "  color: var(--sklearn-color-text);\n",
              "  box-shadow: 2pt 2pt 4pt #999;\n",
              "  /* unfitted */\n",
              "  background: var(--sklearn-color-unfitted-level-0);\n",
              "  border: .5pt solid var(--sklearn-color-unfitted-level-3);\n",
              "}\n",
              "\n",
              ".sk-estimator-doc-link.fitted span {\n",
              "  /* fitted */\n",
              "  background: var(--sklearn-color-fitted-level-0);\n",
              "  border: var(--sklearn-color-fitted-level-3);\n",
              "}\n",
              "\n",
              ".sk-estimator-doc-link:hover span {\n",
              "  display: block;\n",
              "}\n",
              "\n",
              "/* \"?\"-specific style due to the `<a>` HTML tag */\n",
              "\n",
              "#sk-container-id-2 a.estimator_doc_link {\n",
              "  float: right;\n",
              "  font-size: 1rem;\n",
              "  line-height: 1em;\n",
              "  font-family: monospace;\n",
              "  background-color: var(--sklearn-color-background);\n",
              "  border-radius: 1rem;\n",
              "  height: 1rem;\n",
              "  width: 1rem;\n",
              "  text-decoration: none;\n",
              "  /* unfitted */\n",
              "  color: var(--sklearn-color-unfitted-level-1);\n",
              "  border: var(--sklearn-color-unfitted-level-1) 1pt solid;\n",
              "}\n",
              "\n",
              "#sk-container-id-2 a.estimator_doc_link.fitted {\n",
              "  /* fitted */\n",
              "  border: var(--sklearn-color-fitted-level-1) 1pt solid;\n",
              "  color: var(--sklearn-color-fitted-level-1);\n",
              "}\n",
              "\n",
              "/* On hover */\n",
              "#sk-container-id-2 a.estimator_doc_link:hover {\n",
              "  /* unfitted */\n",
              "  background-color: var(--sklearn-color-unfitted-level-3);\n",
              "  color: var(--sklearn-color-background);\n",
              "  text-decoration: none;\n",
              "}\n",
              "\n",
              "#sk-container-id-2 a.estimator_doc_link.fitted:hover {\n",
              "  /* fitted */\n",
              "  background-color: var(--sklearn-color-fitted-level-3);\n",
              "}\n",
              "\n",
              ".estimator-table summary {\n",
              "    padding: .5rem;\n",
              "    font-family: monospace;\n",
              "    cursor: pointer;\n",
              "}\n",
              "\n",
              ".estimator-table details[open] {\n",
              "    padding-left: 0.1rem;\n",
              "    padding-right: 0.1rem;\n",
              "    padding-bottom: 0.3rem;\n",
              "}\n",
              "\n",
              ".estimator-table .parameters-table {\n",
              "    margin-left: auto !important;\n",
              "    margin-right: auto !important;\n",
              "}\n",
              "\n",
              ".estimator-table .parameters-table tr:nth-child(odd) {\n",
              "    background-color: #fff;\n",
              "}\n",
              "\n",
              ".estimator-table .parameters-table tr:nth-child(even) {\n",
              "    background-color: #f6f6f6;\n",
              "}\n",
              "\n",
              ".estimator-table .parameters-table tr:hover {\n",
              "    background-color: #e0e0e0;\n",
              "}\n",
              "\n",
              ".estimator-table table td {\n",
              "    border: 1px solid rgba(106, 105, 104, 0.232);\n",
              "}\n",
              "\n",
              ".user-set td {\n",
              "    color:rgb(255, 94, 0);\n",
              "    text-align: left;\n",
              "}\n",
              "\n",
              ".user-set td.value pre {\n",
              "    color:rgb(255, 94, 0) !important;\n",
              "    background-color: transparent !important;\n",
              "}\n",
              "\n",
              ".default td {\n",
              "    color: black;\n",
              "    text-align: left;\n",
              "}\n",
              "\n",
              ".user-set td i,\n",
              ".default td i {\n",
              "    color: black;\n",
              "}\n",
              "\n",
              ".copy-paste-icon {\n",
              "    background-image: url(data:image/svg+xml;base64,PHN2ZyB4bWxucz0iaHR0cDovL3d3dy53My5vcmcvMjAwMC9zdmciIHZpZXdCb3g9IjAgMCA0NDggNTEyIj48IS0tIUZvbnQgQXdlc29tZSBGcmVlIDYuNy4yIGJ5IEBmb250YXdlc29tZSAtIGh0dHBzOi8vZm9udGF3ZXNvbWUuY29tIExpY2Vuc2UgLSBodHRwczovL2ZvbnRhd2Vzb21lLmNvbS9saWNlbnNlL2ZyZWUgQ29weXJpZ2h0IDIwMjUgRm9udGljb25zLCBJbmMuLS0+PHBhdGggZD0iTTIwOCAwTDMzMi4xIDBjMTIuNyAwIDI0LjkgNS4xIDMzLjkgMTQuMWw2Ny45IDY3LjljOSA5IDE0LjEgMjEuMiAxNC4xIDMzLjlMNDQ4IDMzNmMwIDI2LjUtMjEuNSA0OC00OCA0OGwtMTkyIDBjLTI2LjUgMC00OC0yMS41LTQ4LTQ4bDAtMjg4YzAtMjYuNSAyMS41LTQ4IDQ4LTQ4ek00OCAxMjhsODAgMCAwIDY0LTY0IDAgMCAyNTYgMTkyIDAgMC0zMiA2NCAwIDAgNDhjMCAyNi41LTIxLjUgNDgtNDggNDhMNDggNTEyYy0yNi41IDAtNDgtMjEuNS00OC00OEwwIDE3NmMwLTI2LjUgMjEuNS00OCA0OC00OHoiLz48L3N2Zz4=);\n",
              "    background-repeat: no-repeat;\n",
              "    background-size: 14px 14px;\n",
              "    background-position: 0;\n",
              "    display: inline-block;\n",
              "    width: 14px;\n",
              "    height: 14px;\n",
              "    cursor: pointer;\n",
              "}\n",
              "</style><body><div id=\"sk-container-id-2\" class=\"sk-top-container\"><div class=\"sk-text-repr-fallback\"><pre>KNeighborsRegressor(n_neighbors=3)</pre><b>In a Jupyter environment, please rerun this cell to show the HTML representation or trust the notebook. <br />On GitHub, the HTML representation is unable to render, please try loading this page with nbviewer.org.</b></div><div class=\"sk-container\" hidden><div class=\"sk-item\"><div class=\"sk-estimator fitted sk-toggleable\"><input class=\"sk-toggleable__control sk-hidden--visually\" id=\"sk-estimator-id-2\" type=\"checkbox\" checked><label for=\"sk-estimator-id-2\" class=\"sk-toggleable__label fitted sk-toggleable__label-arrow\"><div><div>KNeighborsRegressor</div></div><div><a class=\"sk-estimator-doc-link fitted\" rel=\"noreferrer\" target=\"_blank\" href=\"https://scikit-learn.org/1.7/modules/generated/sklearn.neighbors.KNeighborsRegressor.html\">?<span>Documentation for KNeighborsRegressor</span></a><span class=\"sk-estimator-doc-link fitted\">i<span>Fitted</span></span></div></label><div class=\"sk-toggleable__content fitted\" data-param-prefix=\"\">\n",
              "        <div class=\"estimator-table\">\n",
              "            <details>\n",
              "                <summary>Parameters</summary>\n",
              "                <table class=\"parameters-table\">\n",
              "                  <tbody>\n",
              "                    \n",
              "        <tr class=\"user-set\">\n",
              "            <td><i class=\"copy-paste-icon\"\n",
              "                 onclick=\"copyToClipboard('n_neighbors',\n",
              "                          this.parentElement.nextElementSibling)\"\n",
              "            ></i></td>\n",
              "            <td class=\"param\">n_neighbors&nbsp;</td>\n",
              "            <td class=\"value\">3</td>\n",
              "        </tr>\n",
              "    \n",
              "\n",
              "        <tr class=\"default\">\n",
              "            <td><i class=\"copy-paste-icon\"\n",
              "                 onclick=\"copyToClipboard('weights',\n",
              "                          this.parentElement.nextElementSibling)\"\n",
              "            ></i></td>\n",
              "            <td class=\"param\">weights&nbsp;</td>\n",
              "            <td class=\"value\">&#x27;uniform&#x27;</td>\n",
              "        </tr>\n",
              "    \n",
              "\n",
              "        <tr class=\"default\">\n",
              "            <td><i class=\"copy-paste-icon\"\n",
              "                 onclick=\"copyToClipboard('algorithm',\n",
              "                          this.parentElement.nextElementSibling)\"\n",
              "            ></i></td>\n",
              "            <td class=\"param\">algorithm&nbsp;</td>\n",
              "            <td class=\"value\">&#x27;auto&#x27;</td>\n",
              "        </tr>\n",
              "    \n",
              "\n",
              "        <tr class=\"default\">\n",
              "            <td><i class=\"copy-paste-icon\"\n",
              "                 onclick=\"copyToClipboard('leaf_size',\n",
              "                          this.parentElement.nextElementSibling)\"\n",
              "            ></i></td>\n",
              "            <td class=\"param\">leaf_size&nbsp;</td>\n",
              "            <td class=\"value\">30</td>\n",
              "        </tr>\n",
              "    \n",
              "\n",
              "        <tr class=\"default\">\n",
              "            <td><i class=\"copy-paste-icon\"\n",
              "                 onclick=\"copyToClipboard('p',\n",
              "                          this.parentElement.nextElementSibling)\"\n",
              "            ></i></td>\n",
              "            <td class=\"param\">p&nbsp;</td>\n",
              "            <td class=\"value\">2</td>\n",
              "        </tr>\n",
              "    \n",
              "\n",
              "        <tr class=\"default\">\n",
              "            <td><i class=\"copy-paste-icon\"\n",
              "                 onclick=\"copyToClipboard('metric',\n",
              "                          this.parentElement.nextElementSibling)\"\n",
              "            ></i></td>\n",
              "            <td class=\"param\">metric&nbsp;</td>\n",
              "            <td class=\"value\">&#x27;minkowski&#x27;</td>\n",
              "        </tr>\n",
              "    \n",
              "\n",
              "        <tr class=\"default\">\n",
              "            <td><i class=\"copy-paste-icon\"\n",
              "                 onclick=\"copyToClipboard('metric_params',\n",
              "                          this.parentElement.nextElementSibling)\"\n",
              "            ></i></td>\n",
              "            <td class=\"param\">metric_params&nbsp;</td>\n",
              "            <td class=\"value\">None</td>\n",
              "        </tr>\n",
              "    \n",
              "\n",
              "        <tr class=\"default\">\n",
              "            <td><i class=\"copy-paste-icon\"\n",
              "                 onclick=\"copyToClipboard('n_jobs',\n",
              "                          this.parentElement.nextElementSibling)\"\n",
              "            ></i></td>\n",
              "            <td class=\"param\">n_jobs&nbsp;</td>\n",
              "            <td class=\"value\">None</td>\n",
              "        </tr>\n",
              "    \n",
              "                  </tbody>\n",
              "                </table>\n",
              "            </details>\n",
              "        </div>\n",
              "    </div></div></div></div></div><script>function copyToClipboard(text, element) {\n",
              "    // Get the parameter prefix from the closest toggleable content\n",
              "    const toggleableContent = element.closest('.sk-toggleable__content');\n",
              "    const paramPrefix = toggleableContent ? toggleableContent.dataset.paramPrefix : '';\n",
              "    const fullParamName = paramPrefix ? `${paramPrefix}${text}` : text;\n",
              "\n",
              "    const originalStyle = element.style;\n",
              "    const computedStyle = window.getComputedStyle(element);\n",
              "    const originalWidth = computedStyle.width;\n",
              "    const originalHTML = element.innerHTML.replace('Copied!', '');\n",
              "\n",
              "    navigator.clipboard.writeText(fullParamName)\n",
              "        .then(() => {\n",
              "            element.style.width = originalWidth;\n",
              "            element.style.color = 'green';\n",
              "            element.innerHTML = \"Copied!\";\n",
              "\n",
              "            setTimeout(() => {\n",
              "                element.innerHTML = originalHTML;\n",
              "                element.style = originalStyle;\n",
              "            }, 2000);\n",
              "        })\n",
              "        .catch(err => {\n",
              "            console.error('Failed to copy:', err);\n",
              "            element.style.color = 'red';\n",
              "            element.innerHTML = \"Failed!\";\n",
              "            setTimeout(() => {\n",
              "                element.innerHTML = originalHTML;\n",
              "                element.style = originalStyle;\n",
              "            }, 2000);\n",
              "        });\n",
              "    return false;\n",
              "}\n",
              "\n",
              "document.querySelectorAll('.fa-regular.fa-copy').forEach(function(element) {\n",
              "    const toggleableContent = element.closest('.sk-toggleable__content');\n",
              "    const paramPrefix = toggleableContent ? toggleableContent.dataset.paramPrefix : '';\n",
              "    const paramName = element.parentElement.nextElementSibling.textContent.trim();\n",
              "    const fullParamName = paramPrefix ? `${paramPrefix}${paramName}` : paramName;\n",
              "\n",
              "    element.setAttribute('title', fullParamName);\n",
              "});\n",
              "</script></body>"
            ],
            "text/plain": [
              "KNeighborsRegressor(n_neighbors=3)"
            ]
          },
          "execution_count": 20,
          "metadata": {},
          "output_type": "execute_result"
        }
      ],
      "source": [
        "model.fit(X_train, y_train)"
      ]
    },
    {
      "cell_type": "markdown",
      "metadata": {
        "id": "aANX_43GBiX7"
      },
      "source": [
        "### Предсказание KNN"
      ]
    },
    {
      "cell_type": "markdown",
      "metadata": {
        "id": "woBE8vvKBiX7"
      },
      "source": [
        "И теперь можем сделать предсказания для наших тестовых объектов."
      ]
    },
    {
      "cell_type": "code",
      "execution_count": 21,
      "metadata": {
        "colab": {
          "base_uri": "https://localhost:8080/"
        },
        "id": "tFlQPmwOBiX7",
        "outputId": "41054a48-bcbb-4811-8a3b-ecc6a165aa35"
      },
      "outputs": [
        {
          "data": {
            "text/plain": [
              "array([-53.99812541, -25.33424853, -28.83554665, -10.18245823,\n",
              "        47.79409516, 114.96770525, -16.82251686,   9.90350525,\n",
              "         5.5775676 , -69.31157808])"
            ]
          },
          "execution_count": 21,
          "metadata": {},
          "output_type": "execute_result"
        }
      ],
      "source": [
        "pred_test = model.predict(X_test)\n",
        "pred_test"
      ]
    },
    {
      "cell_type": "markdown",
      "metadata": {
        "id": "dxpF3TMUBiX7"
      },
      "source": [
        "И посмотрим, насколько предсказанные классы похожи на правду."
      ]
    },
    {
      "cell_type": "code",
      "execution_count": 22,
      "metadata": {
        "colab": {
          "base_uri": "https://localhost:8080/",
          "height": 121
        },
        "id": "QPuJP0RXBiX8",
        "outputId": "ba329c05-8112-443e-9a70-ac2fca572e07"
      },
      "outputs": [
        {
          "data": {
            "text/plain": [
              "array([-53.99812541, -25.33424853, -28.83554665, -10.18245823,\n",
              "        47.79409516, 114.96770525, -16.82251686,   9.90350525,\n",
              "         5.5775676 , -69.31157808])"
            ]
          },
          "metadata": {},
          "output_type": "display_data"
        },
        {
          "data": {
            "text/plain": [
              "array([-61.56318468, -23.01956535, -34.93897749,   0.28292736,\n",
              "        49.5828809 , 127.67174326, -55.44024142,   9.81536928,\n",
              "        13.26158326, -99.30796032])"
            ]
          },
          "metadata": {},
          "output_type": "display_data"
        }
      ],
      "source": [
        "display(pred_test, y_test)"
      ]
    },
    {
      "cell_type": "markdown",
      "metadata": {
        "id": "L1CU1aufBiX8"
      },
      "source": [
        "Они конечно совпадают неидеально, но в целом они имеют близкие значения."
      ]
    },
    {
      "cell_type": "markdown",
      "metadata": {
        "id": "fJm4fUtABiX8"
      },
      "source": [
        "#### Детали получения предсказания в KNN"
      ]
    },
    {
      "cell_type": "markdown",
      "metadata": {
        "id": "dJC45bVEBiX8"
      },
      "source": [
        "А давайте увидем ближайших соседей для пары тестовых объектов.\n",
        "\n",
        "Для этого\n",
        "1. пройдемся по всем обучающим объектам\n",
        "2. посчитаем Эвклидово расстояние (ведь именно оно и считается по умолчанию в KNN в `sklearn`) через `numpy.linalg.norm`."
      ]
    },
    {
      "cell_type": "code",
      "execution_count": 23,
      "metadata": {
        "id": "5kdXP1wKBiX8"
      },
      "outputs": [],
      "source": [
        "idx = 0\n",
        "test_dot = X_test[idx]\n",
        "\n",
        "rows = []  \n",
        "for i, train_dot in enumerate(X_train):\n",
        "    rows.append({\n",
        "        'train_idx': i,\n",
        "        'dst': np.linalg.norm(train_dot - test_dot, ord=2)\n",
        "    })\n",
        "\n",
        "distances = pd.DataFrame(rows)"
      ]
    },
    {
      "cell_type": "markdown",
      "metadata": {
        "id": "lM13T7PFBiX9"
      },
      "source": [
        "И после подсчета всех расстояний от тестового объекта до обучающих объектов мы берем наиближайших, тех у которых расстояние меньше всех.\n",
        "\n",
        "И возьмем только 3 соседей."
      ]
    },
    {
      "cell_type": "code",
      "execution_count": 24,
      "metadata": {
        "colab": {
          "base_uri": "https://localhost:8080/",
          "height": 144
        },
        "id": "DCXqcQ5nBiX9",
        "outputId": "c9bc7e3d-14b5-4c91-9784-163c55f4916d"
      },
      "outputs": [
        {
          "data": {
            "text/html": [
              "<div>\n",
              "<style scoped>\n",
              "    .dataframe tbody tr th:only-of-type {\n",
              "        vertical-align: middle;\n",
              "    }\n",
              "\n",
              "    .dataframe tbody tr th {\n",
              "        vertical-align: top;\n",
              "    }\n",
              "\n",
              "    .dataframe thead th {\n",
              "        text-align: right;\n",
              "    }\n",
              "</style>\n",
              "<table border=\"1\" class=\"dataframe\">\n",
              "  <thead>\n",
              "    <tr style=\"text-align: right;\">\n",
              "      <th></th>\n",
              "      <th>train_idx</th>\n",
              "      <th>dst</th>\n",
              "    </tr>\n",
              "  </thead>\n",
              "  <tbody>\n",
              "    <tr>\n",
              "      <th>60</th>\n",
              "      <td>60</td>\n",
              "      <td>0.202009</td>\n",
              "    </tr>\n",
              "    <tr>\n",
              "      <th>34</th>\n",
              "      <td>34</td>\n",
              "      <td>0.320839</td>\n",
              "    </tr>\n",
              "    <tr>\n",
              "      <th>32</th>\n",
              "      <td>32</td>\n",
              "      <td>0.532766</td>\n",
              "    </tr>\n",
              "  </tbody>\n",
              "</table>\n",
              "</div>"
            ],
            "text/plain": [
              "    train_idx       dst\n",
              "60         60  0.202009\n",
              "34         34  0.320839\n",
              "32         32  0.532766"
            ]
          },
          "execution_count": 24,
          "metadata": {},
          "output_type": "execute_result"
        }
      ],
      "source": [
        "distances.sort_values('dst').head(n_neighbors)"
      ]
    },
    {
      "cell_type": "markdown",
      "metadata": {
        "id": "-q1XCvEpBiX9"
      },
      "source": [
        "И получим их индексы для дальнейшей отрисовки."
      ]
    },
    {
      "cell_type": "code",
      "execution_count": 25,
      "metadata": {
        "colab": {
          "base_uri": "https://localhost:8080/"
        },
        "id": "AVrb98xJBiX9",
        "outputId": "9b88fa8d-b8f9-4a24-f2a2-074abd5f404b"
      },
      "outputs": [
        {
          "data": {
            "text/plain": [
              "Index([60, 34, 32], dtype='int64')"
            ]
          },
          "execution_count": 25,
          "metadata": {},
          "output_type": "execute_result"
        }
      ],
      "source": [
        "nearest_neigbors_idxs = distances.sort_values('dst').head(n_neighbors).index\n",
        "nearest_neigbors_idxs"
      ]
    },
    {
      "cell_type": "markdown",
      "metadata": {
        "id": "9FW68g9-BiX-"
      },
      "source": [
        "Отрисовываем три найденных соседа в полупрозрачные зеленые окружности.\n",
        "\n",
        "И видим, что действительно, эти три объекта самые близкие для данного тестового объекта и они имеют свои три целевых значения.\n",
        "\n",
        "Чтобы получить предсказания для тестового объекта, нужно усреднить целевые значения ближайших соседей."
      ]
    },
    {
      "cell_type": "code",
      "execution_count": 26,
      "metadata": {
        "colab": {
          "base_uri": "https://localhost:8080/",
          "height": 483
        },
        "id": "eLlopVfHBiX-",
        "outputId": "e84c7f69-3574-4342-be5e-faf843ae5193"
      },
      "outputs": [
        {
          "data": {
            "image/png": "[encoded data removed]",
            "text/plain": [
              "<Figure size 1000x800 with 1 Axes>"
            ]
          },
          "metadata": {},
          "output_type": "display_data"
        }
      ],
      "source": [
        "plt.figure(figsize=(10, 8))\n",
        "sns.scatterplot(\n",
        "    x=X_train[:, 0],\n",
        "    y=X_train[:, 1],\n",
        "    hue=y_train,\n",
        ")\n",
        "\n",
        "plt.scatter(X_train[nearest_neigbors_idxs, 0], X_train[nearest_neigbors_idxs, 1],\n",
        "            c='g', alpha=0.3, marker='o', s=100, label='nearest neighbors')\n",
        "\n",
        "pred = np.mean(y_train[nearest_neigbors_idxs])\n",
        "plt.scatter(X_test[idx, 0], X_test[idx, 1], c='g', marker='*', s=100, label='test dot')\n",
        "plt.annotate(round(pred, 1), (X_test[idx, 0], X_test[idx, 1]))\n",
        "\n",
        "for i, txt in enumerate(y_train[nearest_neigbors_idxs]):\n",
        "    plt.annotate(round(txt, 1), (X_train[nearest_neigbors_idxs[i], 0], X_train[nearest_neigbors_idxs[i], 1]))\n",
        "\n",
        "plt.legend();"
      ]
    },
    {
      "cell_type": "markdown",
      "metadata": {
        "id": "48ZAvW89BiX-"
      },
      "source": [
        "А давайте возьмем еще один тестовый объект и сделаем для него точно такие же действия."
      ]
    },
    {
      "cell_type": "code",
      "execution_count": 27,
      "metadata": {
        "colab": {
          "base_uri": "https://localhost:8080/",
          "height": 144
        },
        "id": "rxhALkt7BiX-",
        "outputId": "c02d0f63-ad1e-4dea-90f9-43cfbf44b50d"
      },
      "outputs": [],
      "source": [
        "idx = 8\n",
        "test_dot = X_test[idx]\n",
        "\n",
        "rows = []  \n",
        "for i, train_dot in enumerate(X_train):\n",
        "    rows.append({\n",
        "        'train_idx': i,\n",
        "        'dst': np.linalg.norm(train_dot - test_dot, ord=2)\n",
        "    })\n",
        "\n",
        "distances = pd.DataFrame(rows)"
      ]
    },
    {
      "cell_type": "code",
      "execution_count": 28,
      "metadata": {},
      "outputs": [
        {
          "data": {
            "text/html": [
              "<div>\n",
              "<style scoped>\n",
              "    .dataframe tbody tr th:only-of-type {\n",
              "        vertical-align: middle;\n",
              "    }\n",
              "\n",
              "    .dataframe tbody tr th {\n",
              "        vertical-align: top;\n",
              "    }\n",
              "\n",
              "    .dataframe thead th {\n",
              "        text-align: right;\n",
              "    }\n",
              "</style>\n",
              "<table border=\"1\" class=\"dataframe\">\n",
              "  <thead>\n",
              "    <tr style=\"text-align: right;\">\n",
              "      <th></th>\n",
              "      <th>train_idx</th>\n",
              "      <th>dst</th>\n",
              "    </tr>\n",
              "  </thead>\n",
              "  <tbody>\n",
              "    <tr>\n",
              "      <th>54</th>\n",
              "      <td>54</td>\n",
              "      <td>0.269626</td>\n",
              "    </tr>\n",
              "    <tr>\n",
              "      <th>53</th>\n",
              "      <td>53</td>\n",
              "      <td>0.599942</td>\n",
              "    </tr>\n",
              "    <tr>\n",
              "      <th>17</th>\n",
              "      <td>17</td>\n",
              "      <td>0.709386</td>\n",
              "    </tr>\n",
              "  </tbody>\n",
              "</table>\n",
              "</div>"
            ],
            "text/plain": [
              "    train_idx       dst\n",
              "54         54  0.269626\n",
              "53         53  0.599942\n",
              "17         17  0.709386"
            ]
          },
          "execution_count": 28,
          "metadata": {},
          "output_type": "execute_result"
        }
      ],
      "source": [
        "distances.sort_values('dst').head(n_neighbors)"
      ]
    },
    {
      "cell_type": "markdown",
      "metadata": {
        "id": "zzUYP7RKBiX_"
      },
      "source": [
        "И получае индексы для отрисовки."
      ]
    },
    {
      "cell_type": "code",
      "execution_count": 29,
      "metadata": {
        "colab": {
          "base_uri": "https://localhost:8080/"
        },
        "id": "VgZzLPjQBiX_",
        "outputId": "01d2f6af-c28d-493b-f56d-5e21066339db"
      },
      "outputs": [
        {
          "data": {
            "text/plain": [
              "Index([54, 53, 17], dtype='int64')"
            ]
          },
          "execution_count": 29,
          "metadata": {},
          "output_type": "execute_result"
        }
      ],
      "source": [
        "nearest_neigbors_idxs = distances.sort_values('dst').head(n_neighbors).index\n",
        "nearest_neigbors_idxs"
      ]
    },
    {
      "cell_type": "markdown",
      "metadata": {
        "id": "EzSAR3VlBiX_"
      },
      "source": [
        "Отрисовываем три найденных соседа в полупрозрачные зеленые окружности.\n",
        "\n",
        "И снова, эти три объекта самые близкие к тестовому объекту.\n",
        "\n",
        "А чтобы получить предсказание для звездочки, нужно усреднить их предсказанные целевые значения."
      ]
    },
    {
      "cell_type": "code",
      "execution_count": 30,
      "metadata": {
        "colab": {
          "base_uri": "https://localhost:8080/",
          "height": 483
        },
        "id": "O54leDA0BiX_",
        "outputId": "31d9f515-225a-48dd-b895-247eee2672d1"
      },
      "outputs": [
        {
          "data": {
            "image/png": "[encoded data removed]",
            "text/plain": [
              "<Figure size 1000x800 with 1 Axes>"
            ]
          },
          "metadata": {},
          "output_type": "display_data"
        }
      ],
      "source": [
        "plt.figure(figsize=(10, 8))\n",
        "sns.scatterplot(\n",
        "    x=X_train[:, 0],\n",
        "    y=X_train[:, 1],\n",
        "    hue=y_train,\n",
        ")\n",
        "\n",
        "plt.scatter(X_train[nearest_neigbors_idxs, 0], X_train[nearest_neigbors_idxs, 1],\n",
        "            c='g', alpha=0.3, marker='o', s=100, label='nearest neighbors')\n",
        "\n",
        "pred = np.mean(y_train[nearest_neigbors_idxs])\n",
        "plt.scatter(X_test[idx, 0], X_test[idx, 1], c='g', marker='*', s=100, label='test dot')\n",
        "plt.annotate(round(pred, 1), (X_test[idx, 0], X_test[idx, 1]))\n",
        "\n",
        "for i, txt in enumerate(y_train[nearest_neigbors_idxs]):\n",
        "    plt.annotate(round(txt, 1), (X_train[nearest_neigbors_idxs[i], 0], X_train[nearest_neigbors_idxs[i], 1] + 0.05))\n",
        "\n",
        "plt.legend();"
      ]
    },
    {
      "cell_type": "markdown",
      "metadata": {
        "id": "WeUJwfPZBiX_"
      },
      "source": [
        "### Резюме KNN"
      ]
    },
    {
      "cell_type": "markdown",
      "metadata": {
        "id": "-oR4oTtQBiX_"
      },
      "source": [
        "С моделью для задачи регрессии всё тоже самое:\n",
        "\n",
        "На **моменте обучения** ничего интересного не происходит: все точки из обучения попросту запоминаются.\n",
        "\n",
        "На **моменте предсказания**:\n",
        "1. для тестовой точки считаем расстояния до всех точек с обучения\n",
        "2. сортируем от самого ближнего до самого дальнего расстояния\n",
        "3. делаем усреднение целевых значений ближайших $N$ соседей - это и есть предсказание модели"
      ]
    },
    {
      "cell_type": "markdown",
      "metadata": {
        "id": "7eGKynr1VdRK"
      },
      "source": [
        "## Как выбрать оптимальное количество соседей"
      ]
    },
    {
      "cell_type": "markdown",
      "metadata": {
        "id": "aDZguU5thEQg"
      },
      "source": [
        "А здесь нет четкого алгоритма, как нужно действовать, чтобы найти самое лучшее количество соседей, главное, не бросаться в крайности и смотреть на качество предсказания модели.\n"
      ]
    },
    {
      "cell_type": "markdown",
      "metadata": {
        "id": "xIDVaJwbWWph"
      },
      "source": [
        "### Слишком мало соседей\n",
        "\n",
        "Если взять слишком мало ближайших соседей (N < 3), то на предсказания могут влиять выбросные  объекты, либо предсказания вообще могут оказаться случайными.\n",
        "\n",
        "Возьмем только одного ближайшего соседа."
      ]
    },
    {
      "cell_type": "code",
      "execution_count": 31,
      "metadata": {
        "colab": {
          "base_uri": "https://localhost:8080/"
        },
        "id": "704MUPF2WLEJ",
        "outputId": "1a00e2dd-f3e7-4508-e86f-690b4f63189f"
      },
      "outputs": [
        {
          "data": {
            "text/plain": [
              "Index([54], dtype='int64')"
            ]
          },
          "execution_count": 31,
          "metadata": {},
          "output_type": "execute_result"
        }
      ],
      "source": [
        "n_neighbors = 1\n",
        "\n",
        "nearest_neigbors_idxs = distances.sort_values('dst').head(n_neighbors).index\n",
        "nearest_neigbors_idxs"
      ]
    },
    {
      "cell_type": "markdown",
      "metadata": {
        "id": "zm6kk5ggWySk"
      },
      "source": [
        "И отрисуем его целевое значение и предсказание для тестового объекта."
      ]
    },
    {
      "cell_type": "code",
      "execution_count": 32,
      "metadata": {
        "colab": {
          "base_uri": "https://localhost:8080/",
          "height": 483
        },
        "id": "HQ4WAYLWWLEK",
        "outputId": "9fe49dda-e08a-499f-ed82-a3c7e5421b12"
      },
      "outputs": [
        {
          "data": {
            "image/png": "[encoded data removed]",
            "text/plain": [
              "<Figure size 1000x800 with 1 Axes>"
            ]
          },
          "metadata": {},
          "output_type": "display_data"
        }
      ],
      "source": [
        "plt.figure(figsize=(10, 8))\n",
        "sns.scatterplot(\n",
        "    x=X_train[:, 0],\n",
        "    y=X_train[:, 1],\n",
        "    hue=y_train,\n",
        ")\n",
        "\n",
        "plt.scatter(X_train[nearest_neigbors_idxs, 0], X_train[nearest_neigbors_idxs, 1],\n",
        "            c='g', alpha=0.3, marker='o', s=100, label='nearest neighbors')\n",
        "\n",
        "pred = np.mean(y_train[nearest_neigbors_idxs])\n",
        "plt.scatter(X_test[idx, 0], X_test[idx, 1], c='g', marker='*', s=100, label='test dot')\n",
        "plt.annotate(round(pred, 1), (X_test[idx, 0], X_test[idx, 1]))\n",
        "\n",
        "for i, txt in enumerate(y_train[nearest_neigbors_idxs]):\n",
        "    plt.annotate(round(txt, 1), (X_train[nearest_neigbors_idxs[i], 0], X_train[nearest_neigbors_idxs[i], 1] + 0.05))\n",
        "\n",
        "plt.legend();"
      ]
    },
    {
      "cell_type": "markdown",
      "metadata": {
        "id": "b5QWinMrWT_B"
      },
      "source": [
        "### Слишком много соседей\n",
        "\n",
        "А если взять слишком большое количество ближайших соседей для задачи, то предсказания будут сильно усредненными, все объекты могут влиять на предсказания нового объекта."
      ]
    },
    {
      "cell_type": "markdown",
      "metadata": {
        "id": "C08Os678W3zy"
      },
      "source": [
        "Возьмем 50 соседей, половина нашей выборки."
      ]
    },
    {
      "cell_type": "code",
      "execution_count": 33,
      "metadata": {
        "colab": {
          "base_uri": "https://localhost:8080/"
        },
        "id": "hSGawHfFWjy7",
        "outputId": "e0e77af2-0dfd-4647-ab0c-5bdaa5e6e4bf"
      },
      "outputs": [
        {
          "data": {
            "text/plain": [
              "Index([54, 53, 17, 55, 89, 31, 68, 25, 38, 18, 60, 23,  1, 80, 43, 49, 20, 34,\n",
              "       15,  0, 13, 70, 32, 12, 14,  6, 21, 63, 50, 67, 85, 66, 72, 58, 11, 75,\n",
              "       33, 83,  8, 37, 76, 44, 61,  9, 40, 48, 19, 95, 39, 46],\n",
              "      dtype='int64')"
            ]
          },
          "execution_count": 33,
          "metadata": {},
          "output_type": "execute_result"
        }
      ],
      "source": [
        "n_neighbors = 50\n",
        "\n",
        "nearest_neigbors_idxs = distances.sort_values('dst').head(n_neighbors).index\n",
        "nearest_neigbors_idxs"
      ]
    },
    {
      "cell_type": "markdown",
      "metadata": {
        "id": "yNqjMU2uW6D7"
      },
      "source": [
        "И отрисуем, выходит, что каждый второй влияет на предсказание нового объекта."
      ]
    },
    {
      "cell_type": "code",
      "execution_count": 34,
      "metadata": {
        "colab": {
          "base_uri": "https://localhost:8080/",
          "height": 483
        },
        "id": "KTvnqPX_Wjy8",
        "outputId": "59e1fb74-8ecd-458a-9d9c-4c988314d45f"
      },
      "outputs": [
        {
          "data": {
            "image/png": "[encoded data removed]",
            "text/plain": [
              "<Figure size 1000x800 with 1 Axes>"
            ]
          },
          "metadata": {},
          "output_type": "display_data"
        }
      ],
      "source": [
        "plt.figure(figsize=(10, 8))\n",
        "sns.scatterplot(\n",
        "    x=X_train[:, 0],\n",
        "    y=X_train[:, 1],\n",
        "    hue=y_train,\n",
        ")\n",
        "\n",
        "plt.scatter(X_train[nearest_neigbors_idxs, 0], X_train[nearest_neigbors_idxs, 1],\n",
        "            c='g', alpha=0.3, marker='o', s=100, label='nearest neighbors')\n",
        "\n",
        "pred = np.mean(y_train[nearest_neigbors_idxs])\n",
        "plt.scatter(X_test[idx, 0], X_test[idx, 1], c='g', marker='*', s=100, label='test dot')\n",
        "plt.annotate(round(pred, 1), (X_test[idx, 0], X_test[idx, 1]))\n",
        "\n",
        "for i, txt in enumerate(y_train[nearest_neigbors_idxs]):\n",
        "    plt.annotate(round(txt, 1), (X_train[nearest_neigbors_idxs[i], 0], X_train[nearest_neigbors_idxs[i], 1] + 0.05))\n",
        "\n",
        "plt.legend();"
      ]
    },
    {
      "cell_type": "markdown",
      "metadata": {
        "id": "Bwb24we6Wg_w"
      },
      "source": [
        "Поэтому есть модификация - взвешенный KNN, про него могу рассказать в другом занятии.\n"
      ]
    },
    {
      "cell_type": "markdown",
      "metadata": {
        "id": "NizN0jCYQojn"
      },
      "source": [
        "## Практика\n",
        "Практика будет доступна на платформе boosty https://boosty.to/machine_learrrning/posts/1d23121a-15d8-4561-ac0b-0bb456969b37\n",
        "\n",
        "Доступна\n",
        "1. по подписке уровня light+ и выше\n",
        "2. разовая оплата\n"
      ]
    },
    {
      "cell_type": "markdown",
      "metadata": {
        "id": "NLm3MFeQNENl"
      },
      "source": [
        "## Summary\n",
        "\n",
        "Вот мы и разобрались, как обучается модель K ближайших соседей.\n",
        "\n",
        "1. Модель и для регрессии, и для классификации **обучается** одинаково - **никак**, она запоминает обучающую выборку.\n",
        "2. Затем поступает тестовый объект и нужно сделать предсказание\n",
        "    - Считаем **расстояния до** всех объектов с **обучения**\n",
        "    - Выбираем **K** ближайших\n",
        "    - И в зависимости от задачи выдаем финальное предсказание\n",
        "        1. ***Классификация***\n",
        "            - Делаем **голосование** между соседами, за какой класс больше голосов, то и выбираем\n",
        "        2. ***Регрессия***\n",
        "            - Далем **усреденение** всех целевых значений"
      ]
    },
    {
      "cell_type": "markdown",
      "metadata": {
        "id": "vlQTlmerl-KD"
      },
      "source": [
        "**Муррр** ♥"
      ]
    }
  ],
  "metadata": {
    "colab": {
      "provenance": [],
      "toc_visible": true
    },
    "kernelspec": {
      "display_name": "py313",
      "language": "python",
      "name": "python3"
    },
    "language_info": {
      "codemirror_mode": {
        "name": "ipython",
        "version": 3
      },
      "file_extension": ".py",
      "mimetype": "text/x-python",
      "name": "python",
      "nbconvert_exporter": "python",
      "pygments_lexer": "ipython3",
      "version": "3.13.5"
    }
  },
  "nbformat": 4,
  "nbformat_minor": 0
}
