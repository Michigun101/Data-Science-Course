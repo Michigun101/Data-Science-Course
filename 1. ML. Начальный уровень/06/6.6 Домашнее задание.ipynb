{
 "cells": [
  {
   "cell_type": "markdown",
   "metadata": {},
   "source": [
    "# Урок 6. Многоклассовая классификация.\n",
    "\n",
    "Посмотрим на примере алгоритма логистической регрессии и метода опорных векторов, как работать с различными методами многоклассовой классификации."
   ]
  },
  {
   "cell_type": "markdown",
   "metadata": {},
   "source": [
    "### 1.\n",
    "Вспомните датасет Wine. Загрузите его, разделите на тренировочную и тестовую выборки (random_state=17), используя только [9, 11, 12] признаки."
   ]
  },
  {
   "cell_type": "code",
   "execution_count": 1,
   "metadata": {},
   "outputs": [],
   "source": [
    "from sklearn.datasets import load_wine\n",
    "from sklearn.model_selection import train_test_split"
   ]
  },
  {
   "cell_type": "code",
   "execution_count": 5,
   "metadata": {},
   "outputs": [
    {
     "data": {
      "text/plain": [
       "(178, 3)"
      ]
     },
     "execution_count": 5,
     "metadata": {},
     "output_type": "execute_result"
    }
   ],
   "source": [
    "wine = load_wine()\n",
    "X = wine.data[:,[9,11,12]]\n",
    "y=wine.target\n",
    "X.shape"
   ]
  },
  {
   "cell_type": "code",
   "execution_count": 6,
   "metadata": {},
   "outputs": [],
   "source": [
    "X_train, X_test, y_train, y_test = train_test_split(X, y, test_size=0.25, random_state=17, stratify=y)"
   ]
  },
  {
   "cell_type": "markdown",
   "metadata": {},
   "source": [
    "**Задайте тип кросс-валидации с помощью StratifiedKFold: 5-кратная, random_state=17.**"
   ]
  },
  {
   "cell_type": "code",
   "execution_count": 7,
   "metadata": {},
   "outputs": [],
   "source": [
    "from sklearn.model_selection import StratifiedKFold, cross_val_score\n",
    "skf = StratifiedKFold(n_splits=5, shuffle=True, random_state=17)"
   ]
  },
  {
   "cell_type": "markdown",
   "metadata": {},
   "source": [
    "### 2.\n",
    "Обучите логистическую регрессию (LogisticRegression) с параметром C по умолчанию и random_state=17. Укажите гиперпараметр multi_class='ovr' - по умолчанию многие классификаторы используют именно его. С помощью cross_val_score сделайте кросс-валидацию (используйте объект skf) и выведите среднюю долю правильных ответов на ней (используйте функцию mean). Отдельно выведите долю правильных ответов на тестовой выборке."
   ]
  },
  {
   "cell_type": "code",
   "execution_count": 8,
   "metadata": {},
   "outputs": [
    {
     "name": "stdout",
     "output_type": "stream",
     "text": [
      "Средняя точность (кросс-валидация, LogReg): 0.9319088319088319\n"
     ]
    }
   ],
   "source": [
    "from sklearn.linear_model import LogisticRegression\n",
    "from sklearn.metrics import accuracy_score\n",
    "log_reg = LogisticRegression(multi_class='ovr',random_state=17)\n",
    "cv_scores_lr = cross_val_score(log_reg,X_train,y_train,cv=skf)\n",
    "print(\"Средняя точность (кросс-валидация, LogReg):\", cv_scores_lr.mean())\n"
   ]
  },
  {
   "cell_type": "code",
   "execution_count": 9,
   "metadata": {},
   "outputs": [
    {
     "name": "stdout",
     "output_type": "stream",
     "text": [
      "Точность на тесте (LogReg): 0.9555555555555556\n"
     ]
    }
   ],
   "source": [
    "log_reg.fit(X_train,y_train)\n",
    "test_score_lr = log_reg.score(X_test,y_test)\n",
    "print(\"Точность на тесте (LogReg):\", test_score_lr)\n"
   ]
  },
  {
   "cell_type": "markdown",
   "metadata": {},
   "source": [
    "### 3.\n",
    "Обучите метод опорных векторов (SVC) с random_state=17 и остальными параметрами по умолчанию. Этот метод при мультиклассовой классификации также использует метод \"ovr\". Сделайте кросс-валидацию (используйте skf) и, как и в предыдущем пункте, выведите среднюю долю правильных ответов на ней. Отдельно выведите долю правильных ответов на тестовой выборке."
   ]
  },
  {
   "cell_type": "code",
   "execution_count": 10,
   "metadata": {},
   "outputs": [
    {
     "name": "stdout",
     "output_type": "stream",
     "text": [
      "Средняя точность (кросс-валидация, SVC): 0.6760683760683761\n",
      "Точность на тесте (SVC): 0.6888888888888889\n"
     ]
    }
   ],
   "source": [
    "from sklearn.svm import SVC\n",
    "# SVM-классификатор\n",
    "svc = SVC(random_state=17)\n",
    "\n",
    "# Кросс-валидация\n",
    "cv_scores_svc = cross_val_score(svc, X_train, y_train, cv=skf)\n",
    "print(\"Средняя точность (кросс-валидация, SVC):\", cv_scores_svc.mean())\n",
    "\n",
    "# Обучение и проверка на тесте\n",
    "svc.fit(X_train, y_train)\n",
    "test_score_svc = svc.score(X_test, y_test)\n",
    "print(\"Точность на тесте (SVC):\", test_score_svc)\n"
   ]
  },
  {
   "cell_type": "markdown",
   "metadata": {},
   "source": [
    "Как видно из полученной метрики, на тестовой выборке метод с гиперпараметрами по умолчанию работает явно намного хуже логистической регрессии. В целом, SVM достаточно плохо масштабируется на размер обучающего набора данных (как видно, даже с тремя признаками он работает не очень хорошо), но благодаря возможности выбора различных ядер (функций близости, которые помогают разделять данные) и другим гиперпараметрам SVM можно достаточно точно настроить под определенный вид данных. Подробнее на этом останавливаться в контексте данного урока не будем."
   ]
  },
  {
   "cell_type": "markdown",
   "metadata": {},
   "source": [
    "### 4.\n",
    "Для предсказаний обеих моделей постройте матрицу ошибок (confusion matrix) и напишите, какие классы каждая из моделей путает больше всего между собой."
   ]
  },
  {
   "cell_type": "code",
   "execution_count": 11,
   "metadata": {},
   "outputs": [
    {
     "name": "stdout",
     "output_type": "stream",
     "text": [
      "Матрица ошибок (LogReg):\n",
      "[[14  1  0]\n",
      " [ 0 18  0]\n",
      " [ 0  1 11]]\n",
      "Матрица ошибок (SVC):\n",
      "[[12  0  3]\n",
      " [ 0 17  1]\n",
      " [ 0 10  2]]\n"
     ]
    }
   ],
   "source": [
    "from sklearn.metrics import classification_report, confusion_matrix\n",
    "\n",
    "# Предсказания\n",
    "y_pred_lr = log_reg.predict(X_test)\n",
    "y_pred_svc = svc.predict(X_test)\n",
    "\n",
    "# Матрицы ошибок\n",
    "cm_lr = confusion_matrix(y_test, y_pred_lr)\n",
    "cm_svc = confusion_matrix(y_test, y_pred_svc)\n",
    "\n",
    "print(\"Матрица ошибок (LogReg):\")\n",
    "print(cm_lr)\n",
    "\n",
    "print(\"Матрица ошибок (SVC):\")\n",
    "print(cm_svc)"
   ]
  },
  {
   "cell_type": "code",
   "execution_count": 14,
   "metadata": {},
   "outputs": [
    {
     "data": {
      "image/png": "[encoded data removed]",
      "text/plain": [
       "<Figure size 1200x500 with 2 Axes>"
      ]
     },
     "metadata": {},
     "output_type": "display_data"
    }
   ],
   "source": [
    "import matplotlib.pyplot as plt\n",
    "from sklearn.metrics import ConfusionMatrixDisplay\n",
    "\n",
    "fig,axes = plt.subplots(1,2,figsize = (12,5))\n",
    "ConfusionMatrixDisplay(cm_lr,display_labels=wine.target_names)\\\n",
    "    .plot(ax=axes[0],colorbar=False)\n",
    "axes[0].set_title(\"Logistic Regression\")\n",
    "ConfusionMatrixDisplay(cm_svc, display_labels=wine.target_names)\\\n",
    "    .plot(ax=axes[1], colorbar=False)\n",
    "axes[1].set_title(\"SVC\")\n",
    "plt.tight_layout()\n",
    "plt.show()\n"
   ]
  },
  {
   "cell_type": "markdown",
   "metadata": {},
   "source": [
    "### 5.\n",
    "Для каждой модели выведите classification report."
   ]
  },
  {
   "cell_type": "code",
   "execution_count": 15,
   "metadata": {},
   "outputs": [
    {
     "name": "stdout",
     "output_type": "stream",
     "text": [
      "Classification Report (Logistic Regression):\n",
      "              precision    recall  f1-score   support\n",
      "\n",
      "     class_0       1.00      0.93      0.97        15\n",
      "     class_1       0.90      1.00      0.95        18\n",
      "     class_2       1.00      0.92      0.96        12\n",
      "\n",
      "    accuracy                           0.96        45\n",
      "   macro avg       0.97      0.95      0.96        45\n",
      "weighted avg       0.96      0.96      0.96        45\n",
      "\n",
      "Classification Report (SVC):\n",
      "              precision    recall  f1-score   support\n",
      "\n",
      "     class_0       1.00      0.80      0.89        15\n",
      "     class_1       0.63      0.94      0.76        18\n",
      "     class_2       0.33      0.17      0.22        12\n",
      "\n",
      "    accuracy                           0.69        45\n",
      "   macro avg       0.65      0.64      0.62        45\n",
      "weighted avg       0.67      0.69      0.66        45\n",
      "\n"
     ]
    }
   ],
   "source": [
    "print(\"Classification Report (Logistic Regression):\")\n",
    "print(classification_report(y_test, y_pred_lr, target_names=wine.target_names))\n",
    "\n",
    "print(\"Classification Report (SVC):\")\n",
    "print(classification_report(y_test, y_pred_svc, target_names=wine.target_names))\n"
   ]
  },
  {
   "cell_type": "code",
   "execution_count": null,
   "metadata": {},
   "outputs": [],
   "source": []
  }
 ],
 "metadata": {
  "kernelspec": {
   "display_name": "base",
   "language": "python",
   "name": "python3"
  },
  "language_info": {
   "codemirror_mode": {
    "name": "ipython",
    "version": 3
   },
   "file_extension": ".py",
   "mimetype": "text/x-python",
   "name": "python",
   "nbconvert_exporter": "python",
   "pygments_lexer": "ipython3",
   "version": "3.10.9"
  }
 },
 "nbformat": 4,
 "nbformat_minor": 2
}
