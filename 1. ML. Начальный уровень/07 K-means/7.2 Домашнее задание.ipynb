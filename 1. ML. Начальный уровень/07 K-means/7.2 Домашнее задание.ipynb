{
 "cells": [
  {
   "cell_type": "markdown",
   "metadata": {},
   "source": [
    "## Урок 2. Домашнее задание \n",
    "\n",
    "### 2.1 Домашнее задание начального уровня\n",
    "\n",
    "Вычислите евклидово расстояние между кластером *c1* и кластером *c3*. Это расстояние получилось меньше, или больше чем расстояние между кластером *c1* и кластером *c2*?\n",
    "\n",
    "Координаты центра для трёх кластеров:\n",
    "\n",
    "* \"красный\" кластер $c_1 = [1.0, 1.5]$\n",
    "* \"оранжевый\" кластер $c_2 = [-1.0, -0.5]$\n",
    "* \"зеленый\" кластер $c_3 = [1.0, -0.5]$\n",
    "\n",
    "![clustering_example](https://248006.selcdn.ru/public/DS.%20Block%202.%20M7/clustering_example.png)"
   ]
  },
  {
   "cell_type": "code",
   "execution_count": 1,
   "metadata": {},
   "outputs": [
    {
     "name": "stdout",
     "output_type": "stream",
     "text": [
      "Расстояние между кластерами c1 и c3: 2.0000\n",
      "Расстояние между кластерами c1 и c2: 2.8284\n"
     ]
    }
   ],
   "source": [
    "from scipy.spatial.distance import euclidean\n",
    "c1 = [1.0, 1.5]\n",
    "c2 = [-1.0, -0.5]\n",
    "c3 = [1.0,-0.5]\n",
    "dist_c1_c3 = euclidean(c1, c3)\n",
    "dist_c1_c2 = euclidean(c1, c2)\n",
    "print(\"Расстояние между кластерами c1 и c3: %.4f\" % dist_c1_c3)\n",
    "print(\"Расстояние между кластерами c1 и c2: %.4f\" % dist_c1_c2)"
   ]
  },
  {
   "cell_type": "markdown",
   "metadata": {},
   "source": []
  }
 ],
 "metadata": {
  "kernelspec": {
   "display_name": "base",
   "language": "python",
   "name": "python3"
  },
  "language_info": {
   "codemirror_mode": {
    "name": "ipython",
    "version": 3
   },
   "file_extension": ".py",
   "mimetype": "text/x-python",
   "name": "python",
   "nbconvert_exporter": "python",
   "pygments_lexer": "ipython3",
   "version": "3.10.9"
  }
 },
 "nbformat": 4,
 "nbformat_minor": 2
}
