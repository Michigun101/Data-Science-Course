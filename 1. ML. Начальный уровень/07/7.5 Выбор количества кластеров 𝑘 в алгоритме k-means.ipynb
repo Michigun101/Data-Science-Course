{
 "cells": [
  {
   "cell_type": "markdown",
   "metadata": {},
   "source": [
    "# Выбор количества кластеров $k$ в алгоритме *k-means*\n",
    "\n",
    "Существенный недостаток алгоритма заключается в необходимости до начала эксперимента выбирать количество кластеров. В этом уроке мы научимся выбирать количество кластеров $K$ автоматически.\n",
    "\n",
    "Мы будем подходить к выбору оптимального количества кластеров, как к задаче оптимизации - выберем метрику качества кластеризации, которая зависит от параметра $K$ найдём как-нибудь, при каком значении $K$ у нас самая лучшая кластеризация. Хорошей метрикой качества является т.н. внутрикластерное расстояние."
   ]
  },
  {
   "cell_type": "markdown",
   "metadata": {},
   "source": [
    "Для подбора вводится метрика качества кластеризации с центроидами $\\mu_k: \\forall k=1,\\ldots,K$, которая измеряет внутрикластерное расстояние - насколько хорошо центр, который мы выбрали, совпадает с \"идеальным\" центром кластера\n",
    "$$\n",
    "J(C) = \\sum_{k=1}^{K}\\sum_{j \\in C_k} \\mid x_j - \\mu_k \\mid \\rightarrow min\n",
    "$$\n",
    "\n",
    "В этой формуле\n",
    "* $\\mu_k$ - координаты центроида кластера под номером $k$, количество кластеров $k$\n",
    "* $x_j$ - объект под номером $j$, принадлежащий кластеру под номером $k$\n",
    "* $\\mid x_j - \\mu_k \\mid$ - евклидово расстояние (см. первый урок) от примера $x_j$ до центроида $\\mu_k$"
   ]
  },
  {
   "cell_type": "markdown",
   "metadata": {},
   "source": [
    "Очевидно, что эта метрика достигает оптимума в точке, где количество соответствует количеству элементов в выборке. Однако, это вырожденный случай - на практике применяют эвристику \"метод локтя\", которая предполагает выбор точки, в которой резко снижается динамика изменения $J(C)$:\n",
    "$$\n",
    "D(K) =\\frac{\\mid J(C_{k+1}) - J(C_{k}) \\mid}{\\mid J(C_{k}) - J(C_{k-1}) \\mid} \\rightarrow \\min\n",
    "$$\n",
    "\n",
    "Пример на картинке:\n",
    "![elbow_method](https://248006.selcdn.ru/public/DS.%20Block%202.%20M7/elbow_method.png)"
   ]
  },
  {
   "cell_type": "markdown",
   "metadata": {},
   "source": [
    "Реализуем алгоритм поиска наилучшего количества кластеров на примере датасета с двумя классами из второго урока"
   ]
  },
  {
   "cell_type": "code",
   "execution_count": 1,
   "metadata": {},
   "outputs": [],
   "source": [
    "from scipy.spatial.distance import euclidean\n",
    "from sklearn.metrics.pairwise import euclidean_distances\n",
    "from sklearn.cluster import KMeans\n"
   ]
  },
  {
   "cell_type": "code",
   "execution_count": 2,
   "metadata": {},
   "outputs": [],
   "source": [
    "import pickle\n",
    "import numpy as np\n",
    "\n",
    "# данные получены с помощью функции make_classification \n",
    "with open('clustering.pkl', 'rb') as f:\n",
    "    data_clustering = pickle.load(f)\n",
    "\n",
    "X = np.array(data_clustering['X'])\n",
    "Y = np.array(data_clustering['Y'])"
   ]
  },
  {
   "cell_type": "code",
   "execution_count": 3,
   "metadata": {},
   "outputs": [
    {
     "name": "stdout",
     "output_type": "stream",
     "text": [
      "cluster_num 1, metric 135.92762259869988\n",
      "cluster_num 2, metric 92.34245055263457\n",
      "cluster_num 3, metric 78.69024117969288\n",
      "cluster_num 4, metric 61.1576359532645\n",
      "cluster_num 5, metric 54.73583484692996\n",
      "cluster_num 6, metric 49.74577043379026\n",
      "cluster_num 7, metric 46.35710199474354\n"
     ]
    }
   ],
   "source": [
    "metrics = []\n",
    "MAX_CLUSTERS = 7\n",
    "\n",
    "for cluster_num in range(1,MAX_CLUSTERS+1):\n",
    "    kmeans_model = KMeans(n_clusters=cluster_num,random_state=99).fit(X)\n",
    "    centroids,labels = kmeans_model.cluster_centers_,kmeans_model.labels_\n",
    "    metric = 0\n",
    "    for centroid_label in range(cluster_num):\n",
    "        metric += euclidean_distances(\n",
    "            X[labels==centroid_label],\n",
    "            centroids[centroid_label,:].reshape(1,-1)\n",
    "        ).sum(axis = 0)[0]\n",
    "    print(\"cluster_num %s, metric %s\" % (cluster_num, metric))\n",
    "    metrics.append(metric)\n"
   ]
  },
  {
   "cell_type": "markdown",
   "metadata": {},
   "source": [
    "Визуализируем зависимость метрики от количества кластеров на графике"
   ]
  },
  {
   "cell_type": "code",
   "execution_count": 6,
   "metadata": {},
   "outputs": [
    {
     "name": "stdout",
     "output_type": "stream",
     "text": [
      "best cluster num: 2\n"
     ]
    },
    {
     "data": {
      "image/png": "[encoded data removed]",
      "text/plain": [
       "<Figure size 640x480 with 1 Axes>"
      ]
     },
     "metadata": {},
     "output_type": "display_data"
    }
   ],
   "source": [
    "import matplotlib.pyplot as plt\n",
    "D = []\n",
    "for i in range(0, len(metrics)-1):\n",
    "    d = abs(metrics[i+1]-metrics[i])/abs(metrics[i]-metrics[i-1])\n",
    "    D.append(d)\n",
    "print(\"best cluster num: %s\" % (np.argmin(D)+1))\n",
    "\n",
    "plt.plot([i+1 for i in range(len(metrics))], metrics)\n",
    "plt.show()"
   ]
  },
  {
   "cell_type": "code",
   "execution_count": 7,
   "metadata": {},
   "outputs": [
    {
     "name": "stdout",
     "output_type": "stream",
     "text": [
      "[0.49348417587389704, 0.40883666957421494, 0.7496910802868036, 0.48121384805569123, 0.7762419060876609, 0.4287448174729684]\n"
     ]
    }
   ],
   "source": [
    "print(D)"
   ]
  },
  {
   "cell_type": "code",
   "execution_count": null,
   "metadata": {},
   "outputs": [],
   "source": []
  }
 ],
 "metadata": {
  "kernelspec": {
   "display_name": "base",
   "language": "python",
   "name": "python3"
  },
  "language_info": {
   "codemirror_mode": {
    "name": "ipython",
    "version": 3
   },
   "file_extension": ".py",
   "mimetype": "text/x-python",
   "name": "python",
   "nbconvert_exporter": "python",
   "pygments_lexer": "ipython3",
   "version": "3.10.9"
  }
 },
 "nbformat": 4,
 "nbformat_minor": 2
}
