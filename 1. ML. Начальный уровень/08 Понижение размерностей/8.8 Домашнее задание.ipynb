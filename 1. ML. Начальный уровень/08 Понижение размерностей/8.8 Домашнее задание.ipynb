{
  "cells": [
    {
      "cell_type": "markdown",
      "metadata": {
        "id": "q92frZ1hzNT3"
      },
      "source": [
        "## Урок 8. Домашнее задание\n",
        "### 8.1 Задание высокого уровня\n",
        "\n",
        "Давайте проверим, как t-sne может улучшить Ваши модели. Для начала загрузим данные и построим Baseline модель без преобразования входных данных"
      ]
    },
    {
      "cell_type": "code",
      "execution_count": 1,
      "metadata": {
        "id": "_gcQ-CQ3zNUQ"
      },
      "outputs": [],
      "source": [
        "from sklearn.tree import DecisionTreeClassifier\n",
        "from sklearn.model_selection import train_test_split\n",
        "from sklearn.metrics import accuracy_score, roc_auc_score\n",
        "import pandas as pd\n",
        "\n",
        "def eval_model(input_x, input_y):\n",
        "    \"\"\"Обучаем и валидируем модель\"\"\"\n",
        "    X_train, X_test, y_train, y_test = train_test_split(\n",
        "        input_x, input_y, test_size=.3, stratify=y, random_state=42\n",
        "    )\n",
        "    # Для примера возьмём неглубокое дерево решений\n",
        "    clf = DecisionTreeClassifier(max_depth=2, random_state=42)\n",
        "    clf.fit(X_train, y_train)\n",
        "    preds = clf.predict_proba(X_test)\n",
        "    acc_score = accuracy_score(y_test, preds.argmax(axis=1))\n",
        "    print('Accuracy: %.5f' % acc_score)\n",
        "\n",
        "df_source = pd.read_csv('/Users/mikhail/Data Science Projects/Data Scientist/1. ML. Начальный уровень/08/client_segmentation.csv')\n",
        "X = df_source[['call_diff','sms_diff','traffic_diff']].values\n",
        "y = df_source.customes_class.values"
      ]
    },
    {
      "cell_type": "markdown",
      "metadata": {
        "id": "EGcbYYxLzNUq"
      },
      "source": [
        "Вычисляем скор baseline модели (по тестовым данным)"
      ]
    },
    {
      "cell_type": "code",
      "execution_count": 2,
      "metadata": {
        "id": "iM-fSpU1zNUw",
        "outputId": "25f8725f-4504-4ac1-d287-4abae60acc3b"
      },
      "outputs": [
        {
          "name": "stdout",
          "output_type": "stream",
          "text": [
            "Accuracy: 0.80000\n"
          ]
        }
      ],
      "source": [
        "eval_model(X, y)"
      ]
    },
    {
      "cell_type": "markdown",
      "metadata": {
        "id": "bWmS26jdzNVJ"
      },
      "source": [
        "Алгоритм выполнения домашней работы:\n",
        "\n",
        "* выполните PCA преобразование матрицы $X$, передайте новую матрицу в `eval_model`. Какое значение Accuracy получили?\n",
        "* выполните t-sne преобразование матрицы $X$, передайте новую матрицу в `eval_model`. Какое значение Accuracy получили?\n",
        "\n",
        "Какие выводы можно сделать?"
      ]
    },
    {
      "cell_type": "code",
      "execution_count": 4,
      "metadata": {},
      "outputs": [
        {
          "name": "stdout",
          "output_type": "stream",
          "text": [
            "Форма после PCA: (100, 2)\n",
            "Accuracy: 0.83333\n"
          ]
        }
      ],
      "source": [
        "from sklearn.decomposition import PCA\n",
        "\n",
        "pca = PCA(n_components=2)\n",
        "X_pca = pca.fit_transform(X)\n",
        "\n",
        "print(\"Форма после PCA:\", X_pca.shape)\n",
        "eval_model(X_pca, y)"
      ]
    },
    {
      "cell_type": "markdown",
      "metadata": {},
      "source": [
        "PCA ищет линейные комбинации признаков, которые сохраняют максимум дисперсии.\n",
        "\n",
        "Если в данных есть линейная структура, PCA часто улучшает результаты или, как минимум, не ухудшает."
      ]
    },
    {
      "cell_type": "code",
      "execution_count": 5,
      "metadata": {},
      "outputs": [
        {
          "name": "stdout",
          "output_type": "stream",
          "text": [
            "Форма после t-SNE: (100, 2)\n",
            "Accuracy: 0.90000\n"
          ]
        }
      ],
      "source": [
        "from sklearn.manifold import TSNE\n",
        "tsne = TSNE(n_components=2)\n",
        "X_tsne = tsne.fit_transform(X)\n",
        "\n",
        "print(\"Форма после t-SNE:\", X_tsne.shape)\n",
        "eval_model(X_tsne, y)"
      ]
    },
    {
      "cell_type": "markdown",
      "metadata": {},
      "source": [
        "t-SNE хорошо работает для нелинейных структур, часто визуально разделяет кластеры, даже если они не линейны.\n",
        "\n",
        "Но у него есть минус — он не сохраняет глобальные расстояния, а также не предназначен для прогнозирования новых точек.\n",
        "\n",
        "Поэтому t-SNE больше инструмент анализа и визуализации, чем подготовки признаков для моделей."
      ]
    },
    {
      "cell_type": "markdown",
      "metadata": {
        "id": "i-qWNTVlzNVa"
      },
      "source": [
        "В этом уроке мы познакомились с новым алгоритмом t-SNE. Какие у него есть недостатки?\n",
        "\n",
        "* требует бережной настройки параметров на валидационной выборке (см. документацию - там очень много параметров)\n",
        "* плохо работает, когда данных очень много.\n",
        "\n",
        "На больших объёмах данных (более 10к элементов) следует применять более простые алгоритмы - PCA или SVD."
      ]
    },
    {
      "cell_type": "markdown",
      "metadata": {},
      "source": []
    }
  ],
  "metadata": {
    "colab": {
      "provenance": []
    },
    "kernelspec": {
      "display_name": "base",
      "language": "python",
      "name": "python3"
    },
    "language_info": {
      "codemirror_mode": {
        "name": "ipython",
        "version": 3
      },
      "file_extension": ".py",
      "mimetype": "text/x-python",
      "name": "python",
      "nbconvert_exporter": "python",
      "pygments_lexer": "ipython3",
      "version": "3.10.9"
    }
  },
  "nbformat": 4,
  "nbformat_minor": 0
}
